{
 "cells": [
  {
   "cell_type": "markdown",
   "metadata": {},
   "source": [
    "# 3.2 Parallel Lines"
   ]
  },
  {
   "cell_type": "markdown",
   "metadata": {},
   "source": [
    "The following two results are toolbox theorems which allow us to prove an important theorem to create an important compass-and-straightedge construction. The Median Concurrence theorem goes through quite easily after the induction proof because we end up needing to construct two sets of five parallel lines such that the sides of the triange and all its medians are transversals. An arbitrary line segment can be divided into $n$ equal segment using only a compass and straightedge, but the induction proof below is needed.\n",
    "\n",
    "**Transversal Segment Congruence Lemma**. If a transversal intersects three parallel lines in such a way as to make congruent segments between the paralllels, then every transversal interesecting these parallel lines will do likewise.\n",
    "\n",
    "````{figure} Fig1.png\n",
    "---\n",
    "width: \"40%\"\n",
    "name: TSCLemma\n",
    "---\n",
    "A sketch of the proof the Transversal Segment Congruence Lemma.\n",
    "````\n",
    "\n",
    "**Transversal Segment Congruence Theorem**. [^1] If a transversal intersects $n$ parallel lines ($n>2$) in such a way as to make congruent segments between the parallels, then every transversal interesecting these parallel lines will do likewise.\n",
    "\n",
    "Median\n",
    ": A line passing through a vertex and the midpoint of the opposite side."
   ]
  },
  {
   "cell_type": "markdown",
   "metadata": {},
   "source": [
    "## Theorems\n",
    "1. **Median Concurrence Theorem**. The three medians of a triangle are concurent. The concurrency point, called the *centroid*, is two-thirds of the distant from any vertex to the midpoint of the opposite side.\n",
    "\n",
    "    ````{hint}\n",
    "    Use the Transversal Segment Congruence Theorem to prove the Median Concurrence Theorem.\n",
    "    ````\n",
    "\n",
    "2. Two lines parallel to another line are parallel to each other.\n",
    "3. If a line intersects one of two parallel llines, then it interesects the other."
   ]
  },
  {
   "cell_type": "markdown",
   "metadata": {},
   "source": [
    "[^1]: This theorem name is non-standard, invented and used in this document only."
   ]
  }
 ],
 "metadata": {
  "kernelspec": {
   "display_name": "Python 3",
   "language": "python",
   "name": "python3"
  },
  "language_info": {
   "codemirror_mode": {
    "name": "ipython",
    "version": 3
   },
   "file_extension": ".py",
   "mimetype": "text/x-python",
   "name": "python",
   "nbconvert_exporter": "python",
   "pygments_lexer": "ipython3",
   "version": "3.8.5"
  }
 },
 "nbformat": 4,
 "nbformat_minor": 4
}
