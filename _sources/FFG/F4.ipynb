{
 "cells": [
  {
   "cell_type": "markdown",
   "metadata": {},
   "source": [
    "# 1.4 Fano's Geometry"
   ]
  },
  {
   "cell_type": "markdown",
   "metadata": {},
   "source": [
    "````{margin}\n",
    "![Image: Gino Fano](https://upload.wikimedia.org/wikipedia/commons/d/d2/Gino_Fano.jpg)\n",
    "Gino Fano (1871 - 1952)\n",
    "````\n",
    "\n",
    "Gino Fano was the founder of finite geometry. He created and explored the projective geometry of order 2 which bears his name. The [Fano Plane](https://en.wikipedia.org/wiki/Fano_plane) is the smallest possible finite projective geometry, the one with the fewest points and lines.\n",
    "\n",
    "We use the standard undefined terms and defined terms for finite geometry, just as with the 4PG and 5PG.\n",
    "\n",
    "````{panels}\n",
    "**Undefined Terms**\n",
    "^^^\n",
    "Point, Line and On\n",
    "---\n",
    "\n",
    "**Defined Terms**\n",
    "^^^\n",
    "Parallel, Intersect and Concurret\n",
    "````\n",
    "\n",
    "````{admonition} Axioms for Fano's Geometry\n",
    ":class: note\n",
    "1. There exists at least one line.\n",
    "2. There are exactly three points on each line.\n",
    "3. Not all points are on the same line.\n",
    "4. There is exactly one line on any two distinct points.\n",
    "5. There is at least one point on any two distinct lines. \n",
    "````"
   ]
  },
  {
   "cell_type": "markdown",
   "metadata": {},
   "source": [
    "## Theorems\n",
    "\n",
    "````{margin}\n",
    "```{figure} Fig3_Fano.png\n",
    "---\n",
    "width: 100%\n",
    "name: Fano's Geometry\n",
    "---\n",
    "Model for Fano's Geometry\n",
    "```\n",
    "````\n",
    "\n",
    "1. In Fano's Geometry, there exist at least four points.\n",
    "2. Lindsey's Lemma. [^1] For every point $P$ in Fano's Geometry, there exists a line that does not contain it.\n",
    "    * Lemma 1. Fano's Geometry contains *at least* seven points.\n",
    "    * Lemma 2. Fano's Geometry contains *no more than* seven points.\n",
    "\n",
    "    ````{note} Lemmas 1 and 2 together prove Theorem 3, that Fano's Geometry contains *exactly seven points*.\n",
    "    ````\n",
    "\n",
    "3. Fano's Geometry contains *exactly* seven points.\n",
    "4. Fano's Geometry contains *exactly* seven lines.\n",
    "    ````{admonition} Hint\n",
    "    :class: tip\n",
    "    Use two different proofs, like the lemma approach above.\n",
    "    ````\n",
    "5. In Fano's Geometry, each line is on exactly three points.\n",
    "6. In Fano's Geometry, the set of all lines on a single point contains all the points in the geometry. \n",
    "7. In Fano's Geometry, for every pair of points, there exist exactly two lines containing neither point.\n",
    "8. In Fano's Geometry, each point is on exactly three lines."
   ]
  },
  {
   "cell_type": "markdown",
   "metadata": {},
   "source": [
    "[^1]: Helpful theorem proposed and proved by a former student at UNG."
   ]
  }
 ],
 "metadata": {
  "kernelspec": {
   "display_name": "Python 3",
   "language": "python",
   "name": "python3"
  },
  "language_info": {
   "codemirror_mode": {
    "name": "ipython",
    "version": 3
   },
   "file_extension": ".py",
   "mimetype": "text/x-python",
   "name": "python",
   "nbconvert_exporter": "python",
   "pygments_lexer": "ipython3",
   "version": "3.8.5"
  }
 },
 "nbformat": 4,
 "nbformat_minor": 4
}
