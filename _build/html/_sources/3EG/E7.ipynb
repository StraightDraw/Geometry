{
 "cells": [
  {
   "cell_type": "markdown",
   "metadata": {},
   "source": [
    "# 3.7 Cyclic Quadrilaterals"
   ]
  },
  {
   "cell_type": "markdown",
   "metadata": {},
   "source": [
    "Cyclic Quadrilateral\n",
    ": A quadrilateral the vertices of which lie on a single circle.\n",
    "\n",
    "Isosceles Trapezoid\n",
    ": A trapezoid with congruent legs.\n",
    "\n",
    "Geometric Mean\n",
    ": For two real numbers $a$ and $b$, their *geometric mean* is the unique real number $x$ such that\n",
    "\n",
    "$$\\frac{a}{x}=\\frac{x}{b}$$"
   ]
  },
  {
   "cell_type": "markdown",
   "metadata": {},
   "source": [
    "## Theorems\n",
    "1. The circumscribing circle of a cyclic quadrilateral can be constructed by finding the circumcenter of the quadrilateral. Prove that the circumcenter of the cyclic quadrilateral is the circumcenter of any of the triangles formed by using three of the four vertices from the quadrilateral.\n",
    "2. Opposite angles of a cyclic quadrilateral are supplementary.\n",
    "3. If opposite angles of a quadrilateral are supplementary, then the quadrilateral is cyclic.\n",
    "4. The exterior angle of a cyclic quadrilateral is congruent to the opposite interior angle.\n",
    "5. The diagonals of cyclic quadrilateral $ABCD$ meet at $X$. Prove $\\triangle ADX\\sim\\triangle BCX$.\n",
    "6. A kite is a cyclic quadrilateral if and only if it is a right kite.\n",
    "7. Non-square parallelograms are not cyclic.\n",
    "8. Squares are cyclic quadrilaterals.\n",
    "7. Prove or disprove. A trapezoid is a cyclic quadrilateral if and only if it is an isoceles trapezoid.\n",
    "8. The middle term in three consecutive terms of a geometric series is the geometric mean of the other two."
   ]
  }
 ],
 "metadata": {
  "kernelspec": {
   "display_name": "Python 3",
   "language": "python",
   "name": "python3"
  },
  "language_info": {
   "codemirror_mode": {
    "name": "ipython",
    "version": 3
   },
   "file_extension": ".py",
   "mimetype": "text/x-python",
   "name": "python",
   "nbconvert_exporter": "python",
   "pygments_lexer": "ipython3",
   "version": "3.7.6"
  }
 },
 "nbformat": 4,
 "nbformat_minor": 4
}
