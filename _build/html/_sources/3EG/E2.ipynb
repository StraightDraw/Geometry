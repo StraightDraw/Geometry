{
 "cells": [
  {
   "cell_type": "markdown",
   "metadata": {},
   "source": [
    "# 3.2 Parallel Lines"
   ]
  },
  {
   "cell_type": "markdown",
   "metadata": {},
   "source": [
    "We know the medians of a triangle are concurrent at a point called the centroid, but proving it requires a result about sets of equally-spaced parallel lines. \n",
    "\n",
    "Median\n",
    ": A line passing through a vertex and the midpoint of the opposite side.\n",
    "\n",
    "````{admonition} A Theorem for the Toolbox\n",
    ":class: tip\n",
    "The Transversal Congruence theorem is used only once, but we need it to prove that the medians of a triangle are conurrent.\n",
    "````\n",
    "\n",
    "**Transversal Congruence Lemma**. If a transversal intersects three parallel lines in such a way as to make congruent segments between the paralllels, then every transversal interesecting these parallel lines will do likewise.\n",
    "\n",
    "````{figure} Fig1.png\n",
    "---\n",
    "width: \"40%\"\n",
    "name: TSCLemma\n",
    "---\n",
    "A sketch of the proof the Transversal Segment Congruence Lemma.\n",
    "````"
   ]
  },
  {
   "cell_type": "markdown",
   "metadata": {},
   "source": [
    "## Theorems\n",
    "1. **Transversal Congruence Theorem**. [^1] If a transversal intersects $n$ parallel lines ($n>2$) in such a way as to make congruent segments between the parallels, then every transversal interesecting these parallel lines will do likewise.\n",
    "2. **Median Concurrence Theorem**. The three medians of a triangle are concurent. The concurrency point, called the *centroid*, is two-thirds of the distant from any vertex to the midpoint of the opposite side.\n",
    "\n",
    "    ````{hint}\n",
    "    Use the Transversal Segment Congruence Theorem to prove the Median Concurrence Theorem.\n",
    "    ````\n",
    "\n",
    "3. Two lines parallel to another line are parallel to each other.\n",
    "4. If a line intersects one of two parallel lines, then it interesects the other.\n",
    "5. Parallel lines are everywhere equidistant.\n",
    "\n",
    "````{warning}\n",
    "Parallel lines are everywhere equidistant **only** in Euclidean geometries. This visualization is often taught to school children as a definition of parallel, but in formal geometry, two lines being parallel simply means that they do not intersect.\n",
    "````"
   ]
  },
  {
   "cell_type": "markdown",
   "metadata": {},
   "source": [
    "[^1]: This theorem name is non-standard, invented and used in this document only."
   ]
  }
 ],
 "metadata": {
  "kernelspec": {
   "display_name": "Python 3",
   "language": "python",
   "name": "python3"
  },
  "language_info": {
   "codemirror_mode": {
    "name": "ipython",
    "version": 3
   },
   "file_extension": ".py",
   "mimetype": "text/x-python",
   "name": "python",
   "nbconvert_exporter": "python",
   "pygments_lexer": "ipython3",
   "version": "3.7.6"
  }
 },
 "nbformat": 4,
 "nbformat_minor": 4
}
