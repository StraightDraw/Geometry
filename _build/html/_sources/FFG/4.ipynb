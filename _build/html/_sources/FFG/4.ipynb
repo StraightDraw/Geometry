{
 "cells": [
  {
   "cell_type": "markdown",
   "metadata": {},
   "source": [
    "# 1.4 Young's Geometry"
   ]
  },
  {
   "cell_type": "markdown",
   "metadata": {},
   "source": [
    "```{warning}\n",
    "Changing a single axiom can generate a very different geometry. \n",
    "```\n",
    "[Young's Geometry](https://mathworld.wolfram.com/YoungsGeometry.html) is identical to [Fano's Geometry](https://en.wikipedia.org/wiki/Fano_plane) except for Axiom 5. The geometry appears to be named for American mathematician [John Wesley Young](https://www.maa.org/about-maa/governance/maa-presidents/john-wesley-young-1929-1930-maa-president) who, along with [Oswald Veblen](https://mathshistory.st-andrews.ac.uk/Biographies/Veblen/), published a seminal treatise on projective geometry just before World War I. Young spent the majority of his career at Dartmouth University and was president of the American Mathematical Society from 1929 - 1930.\n",
    "We again use the standard undefined and defined terms.\n",
    "````{panels}\n",
    "**Undefined Terms**\n",
    "^^^\n",
    "Point, Line and On\n",
    "---\n",
    "\n",
    "**Defined Terms**\n",
    "^^^\n",
    "Parallel, Intersect and Concurret\n",
    "````\n",
    "\n",
    "````{admonition} Axioms for Young's Geometry\n",
    ":class: note\n",
    "1. There exists at least one line.\n",
    "2. There are exactly three points on each line.\n",
    "3. Not all points are on the same line.\n",
    "4. There is exactly one line on any two distinct points.\n",
    "5. For each line $l$ and each point $P$ not on $l$, there exists exactly one line on $P$ that does not contain any points on $l$. \n",
    "````"
   ]
  },
  {
   "cell_type": "markdown",
   "metadata": {},
   "source": [
    "Even though the only minor difference in the geometries is Axiom 5, they have very different properties. The {ref}`Young` is shown below. Note that each line contains three points, so some of the lines (shown in red and orange) curve around the outside of the square. There are no intersections except where points appear.\n",
    "\n",
    "```{figure} Fig4_Young.png\n",
    "---\n",
    "height: 300px\n",
    "name: Young\n",
    "---\n",
    "Model for Young's Geometry\n",
    "```\n",
    "\n"
   ]
  },
  {
   "cell_type": "markdown",
   "metadata": {},
   "source": [
    "## Theorems for Young's Geometry\n",
    "\n",
    "1. In Young's Geometry, there exist at least four points.\n",
    "2. Laurel's Lemma. [^1] In Young's Geometry, for each point $P$ there exists least one line $l$ that does not contain it.\n",
    "3. In Young's Geometry, every point is on exactly four lines.\n",
    "4. In Young's Geometry, if lines $l$ and $m$ intersect at a point $P$, and if line $l$ is parallel to line $n$, then lines $m$ and $n$ share a common point $Q$.\n",
    "5. In Young's Geometry, two lines parallel to a third line are parallel to each other.\n",
    "6. In Young's Geometry, every line has exactly two distinct lines that are parallel to it. \n",
    "    ````{admonition} Hint\n",
    "    :class: tip\n",
    "    The previous two theorems serve as lemmas to help us prove this theorem.\n",
    "    ````\n",
    "7. Young's Geometry contains exactly twelve lines.\n",
    "    ````{admonition} Hint\n",
    "    :class: tip\n",
    "    Prove first that *at least* 12 lines exist. Next, that *no more than* 12 lines exist.\n",
    "    ````\n",
    "8. Young's Geometry contains exactly nine points. (Same hint as above.)\n",
    "    ````{admonition} Hint\n",
    "    :class: tip\n",
    "    Same hint as above.\n",
    "    ````\n"
   ]
  },
  {
   "cell_type": "markdown",
   "metadata": {},
   "source": [
    "[^1]: Helpful theorem proposed and proved by a former student at UNG."
   ]
  }
 ],
 "metadata": {
  "kernelspec": {
   "display_name": "Python 3",
   "language": "python",
   "name": "python3"
  },
  "language_info": {
   "codemirror_mode": {
    "name": "ipython",
    "version": 3
   },
   "file_extension": ".py",
   "mimetype": "text/x-python",
   "name": "python",
   "nbconvert_exporter": "python",
   "pygments_lexer": "ipython3",
   "version": "3.8.5"
  }
 },
 "nbformat": 4,
 "nbformat_minor": 4
}
