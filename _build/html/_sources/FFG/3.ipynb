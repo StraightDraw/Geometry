{
 "cells": [
  {
   "cell_type": "markdown",
   "metadata": {},
   "source": [
    "## 1.3 Fano's Geometry"
   ]
  },
  {
   "cell_type": "markdown",
   "metadata": {},
   "source": [
    "Our approach will be very similar to the Four and Five Point Geometries using the same undefined terms. Here are the axioms for Fano's Geometry:\n",
    "\n",
    "> &nbsp;&nbsp; i.   There exists at least one line.\n",
    ">\n",
    "> &nbsp; ii.  There are exactly three points on each line.\n",
    ">\n",
    ">iii. Not all points are on the same line.\n",
    ">\n",
    ">iv.  There is exactly one line on any two distinct points.\n",
    ">\n",
    ">&nbsp; v.   There is at least one point on any two distinct lines. \n",
    "\n",
    "We will also use the same defined terms as before: intersect, parallel and concurrent."
   ]
  },
  {
   "cell_type": "markdown",
   "metadata": {},
   "source": [
    "**Theorems.**\n",
    "\n",
    "1. In Fano's Geometry, there exist at least four points.\n",
    "2. Lindsey's Lemma. For every point $P$ in Fano's Geometry, there exists a line that does not contain it.\n",
    "3. Fano's Geometry contains *at least* seven points.\n",
    "4. Fano's Geometry contains *no more than* seven points.\n",
    "\n",
    "    Note that Theorems 10 and 11 are actually two lemmas needed to prove that Fano's Geometry contains *exactly* seven points.\n",
    "\n",
    "5. Fano's Geometry contains \\textbf{exactly} seven points.\n",
    "6. Fano's Geometry contains \\textbf{exactly} seven lines.\n",
    "7. In Fano's Geometry, each line is on exactly three points.\n",
    "8. In Fano's Geometry, the set of all lines on a single point contains all the points in the geometry. \n",
    "9. In Fano's Geometry, for every pair of points, there exist exactly two lines containing neither point.\n",
    "10. In Fano's Geometry, each point is on exactly three lines.\n"
   ]
  }
 ],
 "metadata": {
  "kernelspec": {
   "display_name": "Python 3",
   "language": "python",
   "name": "python3"
  },
  "language_info": {
   "codemirror_mode": {
    "name": "ipython",
    "version": 3
   },
   "file_extension": ".py",
   "mimetype": "text/x-python",
   "name": "python",
   "nbconvert_exporter": "python",
   "pygments_lexer": "ipython3",
   "version": "3.8.5"
  }
 },
 "nbformat": 4,
 "nbformat_minor": 4
}
