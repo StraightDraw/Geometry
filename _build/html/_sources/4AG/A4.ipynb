{
 "cells": [
  {
   "cell_type": "markdown",
   "id": "after-envelope",
   "metadata": {},
   "source": [
    "# A.4 Conic Sections\n",
    "\n",
    "We can derive basic formulas for the conic sections using simplifications, then generate more robust formulas later once we have worked the details of transformations.\n",
    "\n",
    "Circle\n",
    ": The set of all points equidistant from a point called the *center*.\n",
    "\n",
    "Radius\n",
    ": The common distance from a point on a circle to its center.\n",
    "\n",
    "Parabola\n",
    ": A set of points which are equidistant from a *focal point* $F$ and a line $l$ called the *directrix*.\n",
    "\n",
    "Hyperbola\n",
    ": A set of points where the absolute difference of the distances from two points (called the *foci*) is constant.\n",
    "\n",
    "\n",
    "## Theorems\n",
    "\n",
    "1. The equation of a circle centered at the origin with radius $r$ is given by \n",
    "\n",
    "    $$x^2+y^2=r^2$$\n",
    "\n",
    "2. The equation of a circle centered at the point $(h,k)$ with radius $r$ is given by \n",
    "\n",
    "    $$(x-h)^2+(y-k)^2=r^2$$\n",
    "\n",
    "3. For a given parabola, drop a perpendicular from the focal point $F$ to the closest point on the directrix $P$. Prove the midpoint of $FP$ is on the parabola.\n",
    "\n",
    "4. Suppose we have a parabola the direterix of which is the $x$-axis with focal point $F=(0,2)$. Prove that the set of all points $P=(x,y)$ on the parabola is equivalent to \n",
    "\n",
    "    $$y - 1 = \\frac{1}{4}x^2$$\n",
    "    \n",
    "5. Suppose we have a parabola the direterix of which is the $x$-axis with focal point $F=(0,k)$. Prove that the set of all points $P=(x,y)$ on the parabola is equivalent to \n",
    "\n",
    "    $$y - k = \\frac{1}{4k}x^2$$ \n",
    "\n",
    "3. "
   ]
  }
 ],
 "metadata": {
  "kernelspec": {
   "display_name": "Python 3",
   "language": "python",
   "name": "python3"
  },
  "language_info": {
   "codemirror_mode": {
    "name": "ipython",
    "version": 3
   },
   "file_extension": ".py",
   "mimetype": "text/x-python",
   "name": "python",
   "nbconvert_exporter": "python",
   "pygments_lexer": "ipython3",
   "version": "3.7.6"
  }
 },
 "nbformat": 4,
 "nbformat_minor": 5
}
