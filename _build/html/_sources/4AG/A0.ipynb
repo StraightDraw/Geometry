{
 "cells": [
  {
   "cell_type": "markdown",
   "id": "amateur-brief",
   "metadata": {},
   "source": [
    "# 4. Analytic Geometry\n",
    "\n",
    "Analytic geometry is the combination of basic algebra on a coordinate system with geometric definitions and constructions. The coordinate system used almost exclusively, especially in K12 schools, is the Cartesion coordinate plane.\n",
    "\n",
    "````{note}\n",
    "We can create a coordinate system using any two distinct points.\n",
    "````\n",
    "\n",
    "## Constructing the Cartesian Coordinate Plane\n",
    "\n",
    "As a consequence of the plane uniqueness axiom (SMSG Ax. 7), we know that any two distinct, intersecting lines uniquely determine a plane. We wish to prove that any two distinct points uniquely determine a coordinate system.\n",
    "\n",
    "````{admonition} Proof\n",
    ":class: note\n",
    "Let two points $P$ and $Q$ be arbitrary. Let $P$ be called the origin, and $PQ=1$ (Distance Postulate). By Axiom 1 (Line Uniqueness) call $\\overleftrightarrow{PQ}$ the $x$-axis. Utilize Axiom 3 (Ruler Postulate) to mark off units on $x$-axis. Construct the unique perpendicular to $x$-axis through the origin $P$ (Thm 40). Call it the $y$-axis and mark off units (Ax 3).\n",
    "````\n"
   ]
  }
 ],
 "metadata": {
  "kernelspec": {
   "display_name": "Python 3",
   "language": "python",
   "name": "python3"
  },
  "language_info": {
   "codemirror_mode": {
    "name": "ipython",
    "version": 3
   },
   "file_extension": ".py",
   "mimetype": "text/x-python",
   "name": "python",
   "nbconvert_exporter": "python",
   "pygments_lexer": "ipython3",
   "version": "3.7.6"
  }
 },
 "nbformat": 4,
 "nbformat_minor": 5
}
