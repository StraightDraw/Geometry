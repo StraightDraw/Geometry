{
 "cells": [
  {
   "cell_type": "markdown",
   "id": "olympic-familiar",
   "metadata": {},
   "source": [
    "# A.3 Trigonometry\n",
    "\n",
    "For any right triangle, define its hypotenuse to be the side opposite the right angle and its legs to be the other two sides. For an $\\angle \\theta$ that is not the right angle, let the leg opposite $\\theta$ be $o$, the leg adjacent to $\\theta$ be $a$ and the hypotenuse $h$. We have the following definitions:\n",
    "\n",
    "* $\\sin \\theta =\\frac{o}{h}$\n",
    "* $\\cos \\theta = \\frac{a}{h}$\n",
    "* $\\tan \\theta =\\frac{o}{a}$\n",
    "* $\\csc\\theta = \\frac{1}{\\sin\\theta}$\n",
    "* $\\sec\\theta = \\frac{1}{\\cos\\theta}$\n",
    "* $\\cot\\theta = \\frac{1}{\\tan\\theta}$\n",
    "\n",
    "\n",
    "## Theorems\n",
    "1. **Unit Circle.** Let $P$ be any first quadrant point on the unit circle $x^2+y^2=1$. Then the coordinates of $P$ are $(\\cos\\theta,\\sin\\theta)$ where $\\theta$ is the smallest angle with its vertex at the origin such that the line through the origin with angle of elevation $\\theta$ passes through $P$.\n",
    "\n",
    "    ```{note}\n",
    "    The above theorem establishes the unit circle only in the first quadrant. With typical definitions for when $m\\angle\\theta\\geq 90^\\circ$, all six basic trig identies function normally on the unit circle. We won't develop all of trignometry in this course, but most trig identies are reasonably easy proofs once we have the Pythagorean Theorem in polar coordinates: $\\sin^2\\theta+cos^2\\theta=1$, a result which follows readily from the above theorem. The geometric proofs of the angle addition and angle subtraction identies (for sine and cosine) are elegant, and every student in a college geometry course should be able to prove them.\n",
    "    ````\n",
    "\n",
    "2. $\\sin(a+b)=\\sin a \\cos b + \\cos a \\sin b$\n",
    "3. $\\sin(a-b)=\\sin a \\cos b - \\cos a\\sin b$\n",
    "4. $\\cos(a+b)=\\cos a \\cos b - \\sin a \\sin b$\n",
    "5. $\\cos(a-b)=\\cos a \\cos b + \\sin a \\sin b$\n",
    "6. $\\sin(2\\theta)=2\\sin\\theta\\cos\\theta$\n",
    "7. $\\cos 2\\theta=\\cos^2\\theta-\\sin^2\\theta$\n"
   ]
  },
  {
   "cell_type": "code",
   "execution_count": null,
   "id": "fitting-democrat",
   "metadata": {},
   "outputs": [],
   "source": []
  }
 ],
 "metadata": {
  "kernelspec": {
   "display_name": "Python 3",
   "language": "python",
   "name": "python3"
  },
  "language_info": {
   "codemirror_mode": {
    "name": "ipython",
    "version": 3
   },
   "file_extension": ".py",
   "mimetype": "text/x-python",
   "name": "python",
   "nbconvert_exporter": "python",
   "pygments_lexer": "ipython3",
   "version": "3.7.6"
  }
 },
 "nbformat": 4,
 "nbformat_minor": 5
}