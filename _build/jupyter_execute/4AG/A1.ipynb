{
 "cells": [
  {
   "cell_type": "markdown",
   "id": "portuguese-mentor",
   "metadata": {},
   "source": [
    "# A.1 Affine Coordinates.\n",
    "\n",
    "Affine Geometry\n",
    ": A geometry in which the Euclidean parallel postulate holds. \n",
    "\n",
    "Slope of line $l$:\n",
    ": The unique $m\\in\\mathbb{R}$ such that, for any two points $N(x_1,y_1)$ and $M(x_2,y_2)$ on $l$, $$m=\\frac{y_1-y_2}{x_1-x_2}$$\n",
    "\n",
    "Affine coordinates can be created for any (non-finite) affine geometry, and they will have the properties we associate with Cartesian Coordinates. The SMSG Axioms provide everything needed to create the typical Cartesian Coordinate System which can, with a bit more work, include the $z$-axis as well.\n",
    "\n",
    "## Distance in a Coordinate System $O_{xy}$\n",
    "\n",
    "At the moment, distances have only been defined along the axes. Notice that the value of the coordinates of point $P(x,y)$ are determined by creating a rectangle and measuring distances on the $x$- and $y$-axis using the SMSG Ruler Axioms. The next two theorems will establish the validity of the Euclidean distance metric."
   ]
  },
  {
   "cell_type": "markdown",
   "id": "outstanding-africa",
   "metadata": {},
   "source": [
    "## Theorems\n",
    "\n",
    "1. For two distinct points with the same $y$-coordinate, say, $P(x_1,y)$ and $Q(x_2,y)$, the distance between $P$ and $Q$ is $\\text{Dist}(P,Q)=|x_1-x_2|$. For two distinct points with the same $x$-coordinate, say, $P(x,y_1)$ and $Q(x,y_2)$, the distance between $P$ and $Q$ is $\\text{Dist}(P,Q)=|y_1-y_2|$.\n",
    "\n",
    "    ````{note}\n",
    "    From the algebraic properties of real numbers, we know that for any distinct $a,b\\in\\mathbb{R}$\n",
    "    \n",
    "    $$|b-a|^2=|a-b|^2=(a-b)^2$$\n",
    "    \n",
    "    which makes the *distance formula* much easier to establish.\n",
    "    ````\n",
    "2. **Distance Formula.** Prove that, for any two distinct points $P(x_1,y_1)$ and $Q(x_2,y_2)$ in the coordinate plane, $\\text{Dist}(P,Q)=\\sqrt{(x_1-x_2)^2+(y_1-y_2)^2}$.\n",
    "\n",
    "    ````{hint}\n",
    "    The distance formula is simply the anlaytic geometry version of the Pythagorean Theorem.\n",
    "    ````\n",
    "3. **Midpoint Formula.** Prove that the midpoint $M$ of line segment $\\overline{AB}$ where $A(x_1,y_1)$ and $B(x_2,y_2)$ is given by:$$M(x,y)=\\left( \\frac{x_1+x_2}{2},\\frac{y_1+y_2}{2} \\right)$$\n",
    "\n",
    "4. **Linear Equations.** For any line $l$ not parallel to the $y$-axis, prove all points $P(x,y)$ satisfy the relationship $y=mx+b$ for some $m,b\\in\\mathbb{R}$.\n",
    "\n",
    "    ````{note}\n",
    "    Lines parallel to the $y$-axis have equations of the form $x=k$ for some $k\\in\\mathbb{R}$. We say the slope of such lines is \\textbf{undefined}. Some textbooks refer to these types of lines as having \"no slope.\" This is very confusing especially for high school students: \"no slope\" seems almost the same as \"zero slope\" due to how we communicate in real life. In this course, we will always refer to these lines as having *undefined slope*.\n",
    "    ````"
   ]
  }
 ],
 "metadata": {
  "kernelspec": {
   "display_name": "Python 3",
   "language": "python",
   "name": "python3"
  },
  "language_info": {
   "codemirror_mode": {
    "name": "ipython",
    "version": 3
   },
   "file_extension": ".py",
   "mimetype": "text/x-python",
   "name": "python",
   "nbconvert_exporter": "python",
   "pygments_lexer": "ipython3",
   "version": "3.7.6"
  }
 },
 "nbformat": 4,
 "nbformat_minor": 5
}