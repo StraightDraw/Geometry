{
 "cells": [
  {
   "cell_type": "markdown",
   "id": "received-wellington",
   "metadata": {},
   "source": [
    "# A.2 Proofs using Analytic Geometry\n",
    "\n",
    "For the following theorems, use analytic geometric techniques to prove the following theorems.\n",
    "\n",
    "## Theorems\n",
    "1. A quadrilateral ABCD is a parallelogram if and only if one pair of opposite sides are congruent and parallel.\n",
    "    ````{hint}\n",
    "    Most analytic geometry proofs are made easier if we remember that we choose the coordinate system to make our life easier. For the above proof, place the line segment $\\overline{AB}$ on the $x$-axis such that $B=(0,0)$ and $A=(a,0)$. Locate $C$ and $D$ in the first quadrant.\n",
    "    \n",
    "   ```{figure} ../images/Analytic01.png\n",
    "    ---\n",
    "    width: 50%\n",
    "    name: Parallelogram \n",
    "    ---\n",
    "    Placing coordinates for a parallelogram proof in analytic goemetry.\n",
    "    ```\n",
    "    \n",
    "    ````\n",
    "    We intentionally pick the origin and axes so that an arbitrary figure is located helpfully with respect the axes and has a useful orientation. Then use Euclidean theorems and equations of lines to prove the needed result.\n",
    "    \n",
    "2. Midpoint Formula. The midpoint $M$ of line segment $\\overline{AB}$ where $A(x_1,y_1)$ and $B(x_2,y_2)$ is given by:$$M(x,y)=\\left( \\frac{x_1+x_2}{2},\\frac{y_1+y_2}{2} \\right)$$\n",
    "3. The diagonals of a parallelogram bisect each other. \n",
    "\n",
    "    ````{hint}\n",
    "    Use same coordinate setup shown above.\n",
    "    ````\n",
    "\n",
    "4. The set of all rectangles with area equal to $1$ which have a vertex at the origin satisfy the relationship $xy=1$.\n",
    "\n",
    "## Conic Sections\n",
    "We can derive basic formulas for the conic sections using simplifications, then generate more robust formulas later once we have worked the details of transformations.\n",
    "\n",
    "1. The equation of a circle centered at the origin is given by $x^2+y^2=r^2$.\n",
    "\n",
    "\n",
    "    Parabola\n",
    "    : A parabola is a set of points $P\\in\\mathbb P$ which are equidistant from a focal point $F$ and a directrix line $L$.\n",
    "\n",
    "\n",
    "2. Suppose we have a parabola with a vertical line of symmtery through the origin (e.g. $x=0$) and focal point $F=(0,y_0)$ where $y_0>0$. Prove that the set of all points $P=(x,y)$ on the parabola is equivalent to \n",
    "\n",
    "    $$x^2+(y-y_0)^2=(y+y_0)^2$$\n",
    "\n",
    "    and that the directrix line for the parabola has the equation \n",
    "\n",
    "    $$y=\\frac{1}{y_0}$$\n",
    "\n",
    "3. Hyperbola...page under construction...coming soon.\n",
    "\n",
    "\n"
   ]
  }
 ],
 "metadata": {
  "kernelspec": {
   "display_name": "Python 3",
   "language": "python",
   "name": "python3"
  },
  "language_info": {
   "codemirror_mode": {
    "name": "ipython",
    "version": 3
   },
   "file_extension": ".py",
   "mimetype": "text/x-python",
   "name": "python",
   "nbconvert_exporter": "python",
   "pygments_lexer": "ipython3",
   "version": "3.7.6"
  }
 },
 "nbformat": 4,
 "nbformat_minor": 5
}