{
 "cells": [
  {
   "cell_type": "markdown",
   "id": "enormous-trace",
   "metadata": {},
   "source": [
    "# 4. Analytic Geometry\n",
    "\n",
    "Analytic geometry is the combination of basic algebra using a coordinate system together with geometric definitions and constructions. \n",
    "\n",
    "````{admonition} Example: Analytic geometry theorem\n",
    "Given two lines with slopes $m_1$ and $m_2$, they are parallel if and only if $m_1=m_2$ and perpendicular if and only if\n",
    "\n",
    "$$m_1 = - \\frac{1}{m_2}$$\n",
    "````\n",
    "Of course we use the Cartesion coordinate plane whenever we construct one ourselves. The process is simple and can be launched any time we have two distinct points."
   ]
  },
  {
   "cell_type": "markdown",
   "id": "statistical-fairy",
   "metadata": {},
   "source": [
    "## Constructing the Cartesian Coordinate Plane\n",
    "\n",
    "Two distinct, intersecting lines uniquely determine a plane. Say the points are $P$ and $Q$. We can create a coordinate system where $\\overline{PQ}$ is the $x$-axis and the unit interval is distance $PQ$. The $y$-axis is the unique line through $P$ perpendicular to $\\overline{AB}$.\n",
    "\n",
    "````{admonition} Proof\n",
    ":class: note\n",
    "Let two points $P$ and $Q$ be arbitrary. Let $P$ be called the origin, and let $PQ=1$ (Distance Postulate). By Axiom 1 (Line Uniqueness), call $\\overleftrightarrow{PQ}$ the $x$-axis. Utilize Axiom 3 (Ruler Postulate) to mark off units on $x$-axis. Construct the unique perpendicular to $x$-axis through the origin $P$ (Neutral Geometry Theorem 2.2.18). Call it the $y$-axis and mark off units (Axiom 3).\n",
    "````\n",
    "\n",
    "Remember that the origin of our coordinate system is completely arbitrary. We can choose any two points. This flexibility can be quite helpful when proving and solving problems in analytic geometry."
   ]
  },
  {
   "cell_type": "markdown",
   "id": "organized-sacramento",
   "metadata": {},
   "source": [
    "\n",
    "```{toctree}\n",
    ":hidden:\n",
    ":titlesonly:\n",
    "\n",
    "\n",
    "A1\n",
    "A2\n",
    "A3\n",
    "A4\n",
    "```\n"
   ]
  }
 ],
 "metadata": {
  "kernelspec": {
   "display_name": "Python 3",
   "language": "python",
   "name": "python3"
  },
  "language_info": {
   "codemirror_mode": {
    "name": "ipython",
    "version": 3
   },
   "file_extension": ".py",
   "mimetype": "text/x-python",
   "name": "python",
   "nbconvert_exporter": "python",
   "pygments_lexer": "ipython3",
   "version": "3.7.6"
  }
 },
 "nbformat": 4,
 "nbformat_minor": 5
}