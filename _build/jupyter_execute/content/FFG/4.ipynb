{
 "cells": [
  {
   "cell_type": "markdown",
   "metadata": {},
   "source": [
    "## 1.4 Young's Geometry"
   ]
  },
  {
   "cell_type": "markdown",
   "metadata": {},
   "source": [
    "Changing a single axiom can generate a very different geometry. Young's Geometry is identical to Fano's Geometry except that Axiom 5 is different. Let's investigate what happens using the same undefined and defined terms and four of the same axioms:\n",
    "\n",
    "    i.   There exists at least one line.\n",
    "    ii.  There are exactly three points on each line.\n",
    "    iii. Not all points are on the same line.\n",
    "    iv.  There is exactly one line on any two distinct points.\n",
    "    v.   For each line $l$ and each point $P$ not on $l$, there exists exactly one line on $P$ that does not contain any points on $l$."
   ]
  },
  {
   "cell_type": "markdown",
   "metadata": {},
   "source": [
    "**Theorems.**\n",
    "\n",
    "1. In Young's Geometry, there exist at least four points.\n",
    "2. Laurel's Lemma. In Young's Geometry, for each point $P$ there exists least one line $l$ that does not contain it.\n",
    "3. In Young's Geometry, every point is on exactly four lines.\n",
    "4. In Young's Geometry, if lines $l$ and $m$ intersect at a point $P$, and if line $l$ is parallel to line $n$, then lines $m$ and $n$ share a common point $Q$.\n",
    "5. In Young's Geometry, two lines parallel to a third line are parallel to each other.\n",
    "6. In Young's Geometry, every line has exactly two distinct lines that are parallel to it. (Hint: the previous two theorems serve as lemmas to help us prove this theorem.)\n",
    "7. Young's Geometry contains exactly twelve lines. (Hint: Prove first that *at least* 12 lines exist. Next, that *no more than* 12 lines exist.)\n",
    "8. Young's Geometry contains exactly nine points. (Same hint as above.)"
   ]
  }
 ],
 "metadata": {
  "kernelspec": {
   "display_name": "Python 3",
   "language": "python",
   "name": "python3"
  },
  "language_info": {
   "codemirror_mode": {
    "name": "ipython",
    "version": 3
   },
   "file_extension": ".py",
   "mimetype": "text/x-python",
   "name": "python",
   "nbconvert_exporter": "python",
   "pygments_lexer": "ipython3",
   "version": "3.8.5"
  }
 },
 "nbformat": 4,
 "nbformat_minor": 4
}