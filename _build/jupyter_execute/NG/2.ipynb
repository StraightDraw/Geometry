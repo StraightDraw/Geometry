{
 "cells": [
  {
   "cell_type": "markdown",
   "metadata": {},
   "source": [
    "# 2.2 Triangles\n",
    "\n",
    "Triangles exist in a neutral geometry and have many familiar properties from Euclidean geometry. The lack of a parallel postuatle results in triangles whose angle sum is *less than* or equal to $180^\\circ$. The fact that many common notions about triangles are true in netural goemetries helps explain why the ancients misunderstood Euclid's parallel postulate and its consequences."
   ]
  },
  {
   "cell_type": "markdown",
   "metadata": {},
   "source": [
    "**Definitions**\n",
    "* Triangle. A triangle is the union of three line segments determined by three non-collinear points.\n",
    "* Exterior Angle. Any angle that is both supplementary and adjacent to an angle of a triangle (or polygon) is an exterior angle of the triangle (or polygon).\n",
    "* Right Triangle. A triangle with a right angle.\n",
    "* Isosceles Triangle. A triangle with a pair of congruent sides.\n",
    "* Equilateral Triangle. A triangle with all three sides congruent.\n",
    "* Scalene Triangle. The sides of a scalene triangle all have different lengths.\n",
    "\n",
    "#### Theorems\n",
    "1. *Isosceles Triangle Theorem.* If two sides of a triangle are congruent, then the angles opposite these sides are congruent.\n",
    "2. A point is on the perpendicular bisector of a line segment if and only if it is equidistant from the endpoints of the line segment.\n",
    "3. Each exterior angle of a triangle is greater in measure than either of the nonadjacent interior angles of the triangle.\n",
    "4. **ASA Triangle Congruence**. If two angles and the included side of one triangle are congruent, repsectively, to two angles and the included side of a second triangle, then the triangles are congruent.\n",
    "5. **AAS Triangle Congruence**. If the vertices of two triangles are in one-to-one correspondence such that two angles and a non-included side in one triangle are congruent to their corresponding parts of a second triangle, then the triangles are congruent.\n",
    "6. **Converse of Isosceles Triangle Theorem**. If two angles of a triangle are congruent, then the sides opposite these angles are congruent.\n",
    "7. **Triangle Inequality**. The sum of the measures of two sides of a triangle is greater than the measure of the third side.\n",
    "8. **Hinge Theorem**. If two sides of one triangle are congruent to two sides of another triangle, and the included angle of the first is larger than the included angle of the second, then the third side of the first triangle is longer than the third side of the second triangle. \n",
    "\n",
    "    ````{note}\n",
    "    The Hinge Theorem is Euclid's Proposition 24 and is sometimes called the ``Open Mouth Theorem.\"\n",
    "    ````\n",
    "     ![Hinge Theorem Illustration](https://cdn.virtualnerd.com/thumbnails/Geo_05_02_0005-diagram_thumb-lg.png)\n",
    "\n",
    "9. **SSS Triangle Congruence**. If the sides of one triangle are congruent to corresponding sides of another triangle, the triangles are congruent.\n",
    "10. In a scalene triangle, the angle with the largest measure is opposite the side with the largest length, and the angle with the smallest measure is opposite the side with the smallest length.\n",
    "11. Equilateral trianges are equiangular.\n",
    "12. **Alternate Interior Angle Theorem**. If two lines are intersected by a transversal such that a pair of alternate interior angles is congruent, then the lines are parallel.\n",
    "13. *Corollary to AIA*. Two lines perpendicular to the same line are parallel.\n",
    "\n"
   ]
  }
 ],
 "metadata": {
  "kernelspec": {
   "display_name": "Python 3",
   "language": "python",
   "name": "python3"
  },
  "language_info": {
   "codemirror_mode": {
    "name": "ipython",
    "version": 3
   },
   "file_extension": ".py",
   "mimetype": "text/x-python",
   "name": "python",
   "nbconvert_exporter": "python",
   "pygments_lexer": "ipython3",
   "version": "3.8.5"
  }
 },
 "nbformat": 4,
 "nbformat_minor": 4
}