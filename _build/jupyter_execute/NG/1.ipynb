{
 "cells": [
  {
   "cell_type": "markdown",
   "metadata": {},
   "source": [
    "# 2.1 Congruence, Lines and Angles"
   ]
  },
  {
   "cell_type": "markdown",
   "metadata": {},
   "source": [
    "````{warning}\n",
    "Some of the definitions below are **not** the standard ones you're used to.\n",
    "````\n",
    "\n",
    "Definitions depend heavily upon the set of axioms and undefined terms. Read each definition below and make note of the ones that feel awkward. All definitions have to work within the set of axioms, so be sure to check out the {doc}`SMSG Axioms</AX/A4>` page.\n",
    "\n",
    "Segment and Angle Congruence\n",
    ": Two segments (or angles) are congruent if and only if their measures are equal.\n",
    "\n",
    "Polygon Congruence\n",
    ": Two polygons are congruent if and only if there exists a one-to-one correspondence between their vertices such that all their corresponding sides (line sgements) and all their corresponding angles are congruent."
   ]
  },
  {
   "cell_type": "markdown",
   "metadata": {},
   "source": [
    "````{note}\n",
    "Congruence relations are *equivalance relations* (see Theorem 1). Specifically, congruence relations are symmetric, reflexive and transitive.\n",
    "````"
   ]
  },
  {
   "cell_type": "markdown",
   "metadata": {},
   "source": [
    "Collinear\n",
    ": Two points lying on the same line.\n",
    "\n",
    "Intersecting Lines\n",
    ": Two lines *intersect* if there exists a point that is on both lines.\n",
    "\n",
    "Parallel Lines\n",
    ": Two lines in the same plan which do not intersect.\n",
    "\n",
    "Concurrent Lines\n",
    ": Three or more coplanar lines that have a point in common.\n",
    "\n",
    "Segment\n",
    ": A *segment* $\\overline{AB}$ is the set of points $A$, $B$ and all points $P$ such that $P\\in\\overleftrightarrow{AB}$ and $AP+PB=AB$.\n",
    "\n",
    "````{warning}\n",
    "Segments are often defined as \"all points on a line **between** $A$ and $B$\" (plus endpoints). But we haven't defined *between* yet. That requires knowing what a segment is.\n",
    "````\n",
    "Between\n",
    ": A point $B$ is *between* $A$ and $C$ if $B\\in \\overline{AC}$ but $B\\neq A,C$."
   ]
  },
  {
   "cell_type": "markdown",
   "metadata": {},
   "source": [
    "````{note}\n",
    "Defining a ray can be tricky. The one below was inspired by Hilbert and his use of \"betweeness\" axioms.\n",
    "````\n",
    "Ray\n",
    ": A *ray* $\\overrightarrow{AB}$ (also called a half-line) is a subset of the line $\\overleftrightarrow{AB}$ that contains a given point $A$ and all the points $C\\in\\overleftrightarrow{AB}$ such that $A$ is not between $C$ and $B$. The point $A$ is called the *endpoint* of the ray.\n",
    "\n",
    "<iframe scrolling=\"no\" title=\"Angle Interior\" src=\"https://www.geogebra.org/material/iframe/id/zyyfrpxb/width/1180/height/360/border/888888/sfsb/true/smb/false/stb/false/stbh/false/ai/false/asb/false/sri/false/rc/false/ld/false/sdz/true/ctl/false\" width=\"100%\" height=\"100%\" style=\"border:0px;\" allowfullscreen; style=\"display:block\" > </iframe>\n",
    "\n",
    "\n",
    "\n",
    "\n",
    "\n",
    "Angle\n",
    ": The union of two rays which have the same endpoint.\n",
    "\n",
    "Straight Angle\n",
    ": An angle whose rays are distinct but collinear."
   ]
  },
  {
   "cell_type": "markdown",
   "metadata": {},
   "source": [
    "Angle Interior\n",
    ": A point $P$ is in the *interior* of $\\angle{ABC}$ provided:\n",
    " + $m\\angle{ABC}<180^\\circ$\n",
    " + there exist points $X,Y$ such that\n",
    "   + $X\\in\\overrightarrow{BA}$,\n",
    "   + $Y\\in\\overrightarrow{BC}$, and\n",
    "   + $P$ is between $X$ and $Y$\n",
    "\n",
    "<iframe scrolling=\"no\" title=\"Angle Interior\" src=\"https://www.geogebra.org/material/iframe/id/x4x9bxqm/width/1180/height/360/border/888888/sfsb/true/smb/false/stb/false/stbh/false/ai/false/asb/false/sri/false/rc/false/ld/false/sdz/true/ctl/false\" width=\"100%\" height=\"100%\" style=\"border:0px;\" allowfullscreen; style=\"display:block\" > </iframe>\n",
    "\n",
    "\n",
    "Convex\n",
    ": A polygon $P$ is *convex* if $X,Y\\in P\\implies \\overline{XY}\\in P$.\n",
    "\n",
    "<iframe scrolling=\"no\" title=\"Angle Interior\" src=\"https://www.geogebra.org/material/iframe/id/yevmvetn/width/1180/height/360/border/888888/sfsb/true/smb/false/stb/false/stbh/false/ai/false/asb/false/sri/false/rc/false/ld/false/sdz/true/ctl/false\" width=\"100%\" height=\"100%\" style=\"border:1px;\" allowfullscreen; style=\"display:block\" > </iframe>\n",
    "\n",
    "\n",
    "\n",
    "\n",
    "Midpoint\n",
    ": The *midpoint* $C$ of $\\overline{AB}$ lies on $\\overline{AB}$ such that $AC = CB$.\n",
    "\n",
    "Angle Bisector\n",
    ": The ray $\\overrightarrow{BD}$ is the angle bisector of $\\angle{ABC}$ if $m\\angle ABD = m\\angle DBC$.\n",
    "\n",
    "Right Angle\n",
    ": An angle with angle measure $90^\\circ$ (see SMSG Axiom 11).\n",
    "\n",
    "Acute Angle\n",
    ": An angle with angle measure less than $90^\\circ$.\n",
    "\n",
    "Perpendicular Bisector\n",
    ": A line which passes through the midpoint of a line segment and which forms a right angle with that segment at the point of intersection."
   ]
  },
  {
   "cell_type": "markdown",
   "metadata": {},
   "source": [
    "Obtuse Angle\n",
    ": An angle with angle measure greater than $90^\\circ$.\n",
    "\n",
    "````{warning}\n",
    "Angles *must* have measure between $0^\\circ$ and $180^\\circ$ (inclusive), so we can't yet define reflex angles, nor are we allowed to have angles with negative measure.\n",
    "````\n",
    "\n",
    "Vertical Angles\n",
    ": The angles opposite each other when two lines cross.\n",
    "\n",
    "Linear Pair\n",
    ": Two distinct angles that share a ray whose non-shared rays are colinear.\n",
    "\n",
    "````{hint}\n",
    "The SMSG Supplementary Postulate (Axiom 14) uses the term *linear pair* which we must define, else the term *supplementary* will have no meaning.\n",
    "````\n",
    "\n",
    "Supplementary Angle Postulate\n",
    ": If two angles form a linear pair, they are supplementary.\n",
    "\n",
    "````{warning}\n",
    "The SMSG Axioms introduce a non-standard geometry term *linear pair*, but let's embrace it and define the term *right angle pair*, too!\n",
    "````\n",
    "\n",
    "Right Angle Pair\n",
    ": Two distinct angles that share a ray whose non-shared rays form a right angle.\n",
    "\n",
    "Complementary Angle\n",
    ": If two angles form a right angle pair, they are complementary."
   ]
  },
  {
   "cell_type": "markdown",
   "metadata": {},
   "source": [
    "## Theorems\n",
    "1. Congruence relations are equivalence relations.\n",
    "2. Every line segment has exactly one midpoint. \n",
    "3. Every angle has exactly one bisector.\n",
    "4. Supplements and complements of the same angles are congruent. \n",
    "5. The intersection of two convex polygons is convex.\n",
    "6. Vertical angles are congruent.\n",
    "7. **Pasch's Axiom**. Given a line that contains no vertex of a triangle, if that line intersects one side of the triangle, it must intersect another. \n",
    "8. **Crossbar Theorem**. If at least one point of $\\overrightarrow{AC}$ is in the interior of $\\angle{BAD}$ then $\\overrightarrow{AC}$ intersects $\\overline{BD}$."
   ]
  }
 ],
 "metadata": {
  "kernelspec": {
   "display_name": "Python 3",
   "language": "python",
   "name": "python3"
  },
  "language_info": {
   "codemirror_mode": {
    "name": "ipython",
    "version": 3
   },
   "file_extension": ".py",
   "mimetype": "text/x-python",
   "name": "python",
   "nbconvert_exporter": "python",
   "pygments_lexer": "ipython3",
   "version": "3.8.5"
  }
 },
 "nbformat": 4,
 "nbformat_minor": 4
}