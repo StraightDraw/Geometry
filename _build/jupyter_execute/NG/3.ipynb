{
 "cells": [
  {
   "cell_type": "markdown",
   "metadata": {},
   "source": [
    "# 2.3 Quadrilaterals"
   ]
  },
  {
   "cell_type": "markdown",
   "metadata": {},
   "source": [
    "## The Saccheri-Legendre Theorem\n",
    "\n",
    "1. The sum of the measures of any two angles of a triangle is less than $180^\\circ$.\n",
    "2. For any $\\triangle ABC$ there exists $\\triangle A'B'C'$ having the same angle sum as $\\triangle ABC$ but where $m\\angle A'\\leq\\frac{1}{2}m\\angle A$.\n",
    "\n",
    "    ````{hint}\n",
    "    Use both of the previous two theorems to help you prove the Saccheri-Legendre Theorem.\n",
    "    ````\n",
    "\n",
    "3. **Saccheri-Legendre Theorem**. The angle sum of any triangle is less than or equal to $180^\\circ$. \n",
    "\n",
    "\n",
    "4. The angle sum of any convex quadrilateral is less than or equal to $360^\\circ$.\n",
    "\n",
    "5. **Unique Perpendicular**. Given a line $l$ and any point $P$ not on $l$, there exists a unique line $m$ such that $P\\in m$ and $m\\perp l$."
   ]
  },
  {
   "cell_type": "markdown",
   "metadata": {},
   "source": [
    "## Rectangles\n",
    "Offering the standard definitions of polygons and quadrilaterals is getting a bit ahead of ourselves since figures like parallelograms and rectangles don't exist without a parallel postulate. As soon as we have Playfair's parallel postulate, however, they make sense. Still, we need some structure to continue our investigation.\n",
    "\n",
    "Polygon\n",
    ": A simple, closed curve comprised entirely of line segments.\n",
    "\n",
    "Quadrilateral\n",
    ": A polygon containing exactly four line segments.\n",
    "\n",
    "Parallelogram:\n",
    ": A convex quadrilateral with two pairs of parallel sides.\n",
    "\n",
    "Rectangle\n",
    ": A rectangle is a parallelogram with a right angle.\n",
    "\n",
    "### Searching for Rectangles\n",
    "Rectangles don't exist in a neutral geometry. In fact, the existence of a rectangle is equivalent to the Euclidean parallel postulate. Two pioneers tried to use the idea of a rectangle to prove Euclid's Fifth Postulate: Saccheri and Lambert.\n",
    "\n",
    "Saccheri Quadrilateral\n",
    ": A quadrilateral with two congruent sides, called *legs*, which are both perpendicular to a third side, called the *base*.\n",
    "\n",
    "Lambert Quadrilateral\n",
    ": A quadrilateral with at least three right angles.\n",
    "\n",
    "Summit\n",
    ": The line segment opposite the base of a Saccheri quadrilateral.\n",
    "\n",
    "Summit Angles\n",
    ": The angles in a Saccheri quadrilateral that are adjacent to the summit.\n",
    "\n",
    "Both Saccheri and Lambert formulated their quadrilaterals as an attempt to prove the Euclidean Parallel Postulate was a theorem. Of course, it's not, and they failed. However, their investigations led to deepened understanding of the implications of a parallel postulate and the creation of non-Euclidean geometries.\n",
    "\n",
    "## Theorems\n",
    "\n",
    "1. The diagonals of a Saccheri quadrilateral are congruent.\n",
    "2. The summit angles of a Saccheri quadrilateral are congruent.\n",
    "3. The summit angles of a Saccheri quadrilateral are not obtuse and thus are either right or acute.\n",
    "4. The line joining the midpoints of the summit and base of a Saccheri quadrilateral are perpendicular to both.\n",
    "5. The summit and base of a Saccheri quadrilateral are parallel.\n",
    "6. In any Saccheri quadrilateral, the length of the summit is greater than or equal the length of the base. \n",
    "7. The fourth angle of a Lambert quadrilateral is not obtuse, and is therefore either right or acute.\n",
    "8. The measure of the side included between two right angles of a Lambert quadrilateral is less than or equal to the measure of the side opposite it."
   ]
  }
 ],
 "metadata": {
  "kernelspec": {
   "display_name": "Python 3",
   "language": "python",
   "name": "python3"
  },
  "language_info": {
   "codemirror_mode": {
    "name": "ipython",
    "version": 3
   },
   "file_extension": ".py",
   "mimetype": "text/x-python",
   "name": "python",
   "nbconvert_exporter": "python",
   "pygments_lexer": "ipython3",
   "version": "3.8.5"
  }
 },
 "nbformat": 4,
 "nbformat_minor": 4
}