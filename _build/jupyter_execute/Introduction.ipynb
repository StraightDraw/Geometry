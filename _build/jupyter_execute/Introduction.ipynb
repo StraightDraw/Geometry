{
 "cells": [
  {
   "cell_type": "markdown",
   "metadata": {},
   "source": [
    "# Geometry"
   ]
  },
  {
   "cell_type": "markdown",
   "metadata": {},
   "source": [
    "## Course Notes for College Geometry\n",
    "Developed by Robb Sinn for use in UNG's MATH 3120."
   ]
  },
  {
   "cell_type": "markdown",
   "metadata": {},
   "source": [
    "For the last 25 centuries, students learned logic and proof while studying geometry. At its best, Geometry is an axiomatic playground where students prove each theorem from first principles.\n",
    "\n",
    "````{warning}\n",
    "Many geometry books leave key terms undefined, or use concepts not yet established in the early definitions.\n",
    "````\n",
    "\n",
    "College geometry books are either too advanced to be suitable for a first course in geometry, or they fail to use the <a href = https://en.wikibooks.org/wiki/Geometry/The_SMSG_Postulates_for_Euclidean_Geometry>School Mathematics Study Group (SMSG) Axioms</a> which our future mathematics teachers need. Textbooks using the <a href = https://en.wikibooks.org/wiki/Geometry/The_SMSG_Postulates_for_Euclidean_Geometry>SMSG Axioms</a> are rarely rigourous enough that their definitions avoid vagueness and circularity mistakes. Often, \"inutuition\" is preferred over rigor. The challenge of these notes is to begin with the <a href = https://en.wikibooks.org/wiki/Geometry/The_SMSG_Postulates_for_Euclidean_Geometry>SMSG Axioms</a> and build out the entire base of Euclidean Geometry.\n",
    "\n",
    "````{tip}\n",
    "The puzzles of Geometry intrigued humanity for more than two thousand years.\n",
    "````\n",
    "\n",
    "Romance can pair with rigor if we search out the ancient mysteries. Why was Euclid's Fith Postulate controversial? Why did the controversy last more than twenty centuries? Who solved it? \n",
    "\n",
    "<iframe width=\"560\" height=\"315\" src=\"https://www.youtube.com/embed/PnW5IRvgvLY\" frameborder=\"0\" allow=\"accelerometer; autoplay; clipboard-write; encrypted-media; gyroscope; picture-in-picture\" allowfullscreen></iframe>\n",
    "\n",
    "Greeks loved quadrature, the act of using a compass and straigtedge to create a square with the same area as given figure. Certain quadratures are impossible, like the classic \"squaring the circle,\" yet it was centuries before anyone proved it to be impossible. \n",
    "\n",
    "To delve into these mysteries and others, we begin with *neutral geometry* and establish every possible theorem that can be proven with no parallel postulate at all. After Euclidean geometry is fully developed, we move on to Analytic Geometry and Trigonometry."
   ]
  },
  {
   "cell_type": "markdown",
   "metadata": {},
   "source": [
    "\n",
    "```{toctree}\n",
    ":hidden:\n",
    ":titlesonly:\n",
    "\n",
    "\n",
    "FFG/0\n",
    "NG/0\n",
    "AX/A0\n",
    "```\n"
   ]
  }
 ],
 "metadata": {
  "kernelspec": {
   "display_name": "Python 3",
   "language": "python",
   "name": "python3"
  },
  "language_info": {
   "codemirror_mode": {
    "name": "ipython",
    "version": 3
   },
   "file_extension": ".py",
   "mimetype": "text/x-python",
   "name": "python",
   "nbconvert_exporter": "python",
   "pygments_lexer": "ipython3",
   "version": "3.8.5"
  }
 },
 "nbformat": 4,
 "nbformat_minor": 4
}