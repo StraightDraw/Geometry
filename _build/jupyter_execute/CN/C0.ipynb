{
 "cells": [
  {
   "cell_type": "markdown",
   "metadata": {},
   "source": [
    "# Constructions"
   ]
  },
  {
   "cell_type": "markdown",
   "metadata": {},
   "source": [
    "## Compass and Straightedge Constructions"
   ]
  },
  {
   "cell_type": "markdown",
   "metadata": {},
   "source": [
    "One interesting aspect of Greek geometry was how they idolized compass and straightedge constructions. Not only did they perform constructions as examples, they used them in proofs in two ways. They illustrated proofs with constructions, but they also used the constructions themselves as proofs. If you think about it, these constructions are based on a set of axioms. A compass draws a circle with a given radius, so we have a way to establish congruence of line segments. A straightedge provides for \"straightness\" so that things like parallel and perpendicular have concrete meaning. And that's it. Every construction proof relies only on these simple ideas. Therefore, the steps we take during the contruction illustrate a formal proof of the idea.\n",
    "\n",
    "No geometry course would be complete without lots of compass and straightedge constructions. For presentation purposes, we can make our constructions in Geogebra, but it's not nearly as fun. If you wish to have constructions in your notes, you should buy a \\textbf{good} compass and a straightedge and bring them class. While traditional compasses can be high quality, the sharp point requires careful use and can rip your paper. The safest and easiest modern alternatives are flat plastic with a slide. The compass pictured below has a brake set so the radius is held in place. You push in the middle of the blue slider to release the brake and adjust the radius. Once the radius set, you release. The brake engages, and you can easily draw several circles or arcs without the fixed radius slipping.\n",
    "\n",
    "[Best Compass to Purchase](https://www.amazon.com/EAI-Education-Slide-Measure-Compass/dp/B01GKHFIWQ/)\n",
    "\n",
    "A pack of 10 is available on Amazon for less than \\$15.\n",
    "\n",
    "## Cranks and Impossible Constructions\n",
    "\n",
    "One interesting aspect of compass and straigtedge constructions is that many constructions are simply impossible. The proof of the following theorem requires some rather elegant uses of Abstract Algebra which wasn't invented until the 18th century. However, we will take the following as true, without offering a proof:\n",
    "\n",
    "### Impossible Constructions.\n",
    "\n",
    "These three classical constructions are impossible using only a compass and straightedge:\n",
    "\n",
    "1. Trisecting an angle\n",
    "2. Squaring a circle - constructing a square with the same area as a given circle\n",
    "3.  Doubling a cube - constructing a cube with volume exactly twice that of a given cube\n",
    "\n",
    "The interesting thing is that, even today, folks refuse to believe they're impossible and continue to offer \"proofs\" of one or another. The scientific word for this line of inquiry is \"pseudomathematics,\" and its practitioners are called \"cranks.' You can check out [Rationalwiki's Psuedomathematics page](http://rationalwiki.org/wiki/Pseudomathematics) and can find many other hilarious stories of mathematical inanity if you use google and the search query \"math cranks.\" Have fun. But trust me, the proof that these three constructions are impossible is ironclad. No credible mathematician doubts it. Not in the least."
   ]
  },
  {
   "cell_type": "markdown",
   "id": "secure-electricity",
   "metadata": {},
   "source": [
    "\n",
    "```{toctree}\n",
    ":hidden:\n",
    ":titlesonly:\n",
    "\n",
    "\n",
    "C1\n",
    "C2\n",
    "```\n"
   ]
  }
 ],
 "metadata": {
  "kernelspec": {
   "display_name": "Python 3",
   "language": "python",
   "name": "python3"
  },
  "language_info": {
   "codemirror_mode": {
    "name": "ipython",
    "version": 3
   },
   "file_extension": ".py",
   "mimetype": "text/x-python",
   "name": "python",
   "nbconvert_exporter": "python",
   "pygments_lexer": "ipython3",
   "version": "3.8.5"
  }
 },
 "nbformat": 4,
 "nbformat_minor": 4
}