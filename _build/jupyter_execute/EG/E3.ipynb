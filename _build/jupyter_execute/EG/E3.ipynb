{
 "cells": [
  {
   "cell_type": "markdown",
   "metadata": {},
   "source": [
    "# 3.3 Circles"
   ]
  },
  {
   "cell_type": "markdown",
   "metadata": {},
   "source": [
    "Circle\n",
    ": A set of points all of which are equidistant from a given point called the *center*. \n",
    "\n",
    "Radius\n",
    ": The common distance between points on the circle and center point.\n",
    "\n",
    "Chord\n",
    ": A *chord* of a circle is a line segment joining two of the points on the circle. A *secant* is a line which contains a chord.\n",
    "\n",
    "Tangent\n",
    ": A line which contains exactly one point of a circle. \n",
    "\n",
    "Diameter\n",
    ": The length of a chord that contains the center of the circle.\n",
    "\n",
    "````{warning}\n",
    "The radius and diameter are defined to be *distances*. Yet, we often refer to relevant line segments as radii or diameters.\n",
    "````\n",
    "\n",
    "Central Angle\n",
    ": Any angle whose vertex is the center of a circle is a \\textbf{central angle}. \n",
    "\n",
    "Arc\n",
    ": The set of points on a circle that lie between two points on the circle, including the points themselves. \n",
    "\n",
    "Arc Measure\n",
    ": The degree measure of an arc is the measure of the central angle corresponding to the arc. Two distinct points on a circle create two arcs, a *minor arc* and a *major arc*, with the degree measure of the major arc greater than (or equal to) that of the minor arc.\n",
    "\n",
    "Inscribed Angle\n",
    ": The angle formed when two secant lines intersect at a point on the circle.\n",
    "\n",
    "Intercepted Arc\n",
    ": The part of the circle that lies between two lines that intersect it."
   ]
  },
  {
   "cell_type": "markdown",
   "metadata": {},
   "source": [
    "## Theorems \n",
    "1. In the Euclidean plane, three distinct points uniquely determine a circle.\n",
    "    ````{warning}\n",
    "    Requires both an existance proof and a uniqueness proof.\n",
    "    ````\n",
    "2. If $\\overline{AB}$ is a diameter and $\\overline{CD}$ is any other chord of the same circle (which is not a diameter), then $AB>CD$.\n",
    "3. If a diameter of a circle is perpendicular to a chord of the circle, then the diameter bisects the chord.\n",
    "4. The perpendicular bisector of a chord of a circle contains a diameter of the circle.\n",
    "5. If a line is tangent to a circle, it is perpendicular to the line joining the point of tangency to the center of the circle.\n",
    "6. **Arc Addition**. If arc $ABC$ and arc $CDE$ are arcs sharing only the same endpoint $C$, then the measure of arc $ABC$ plus the measure of arc $CDE$ equals the measure of arc $ACE}$.\n",
    "\n",
    "7. **Inscribed Angle Theorem**. The measure of an angle inscribed in an arc is one-half the measure of its intercepted arc. \n",
    "    ````{note}\n",
    "    Recall the measure of an arc is equal to the measure of the central angle corresponding to the arc.\n",
    "    ````\n",
    "8. **Two-Chord Angle Theorem**. If two chords interesect in the interior of a circle to determine an angle, the measure of that angle is the average of the measures of the arcs intercepted by the angle and its vertical angles.\n",
    "9. **Two-Secant Angle Theorem**. If two secants interesect in the exterior of a circle to determine an angle, the measure of the angle at the point of intersection is one-half the positive difference of the two intercepted arcs.\n",
    "\n",
    "10. **Tangent-Chord Angle Theorem**. If $\\overleftrightarrow{AB}$ is tangent to a circle at $A$, and if $\\overline{AC}$ is a chord of the circle with measure arc $APC=x^{\\circ}$, then $m\\angle BAC=\\frac{x^{\\circ}}{2}$.\n",
    "11. **Tangent-Secant Angle Theorem**. If $\\overleftrightarrow{AB}$ is tangent to a circle at $A$, and if $\\overleftrightarrow{BD}$ is a secant of the circle, then $m\\angle ABD$ is half the positive difference of the two intercepted arcs.\n",
    "12. **Two-Tangent Angle Theorem**. The measure of an angle formed by two tangents drawn to a circle is one-half the positive difference of the measures of the intercepted arcs.\n",
    "13. **Corollary**. Tangent segments drawn to a circle from the same (exterior) point are congruent.\n",
    "14. **Chord Segment Product Theorem**. If two chords of a circle intersect, the products of the lengths of the segments of one chord is equal to the product of the lengths of the segments of the other.\n",
    "15. **Secant Segment Product Theorem**. If two secant lines are drawn to a circle from the same exterior point, then the product of the length of the secant segment and the lenth of its exterior portion is the same for both secants."
   ]
  }
 ],
 "metadata": {
  "kernelspec": {
   "display_name": "Python 3",
   "language": "python",
   "name": "python3"
  },
  "language_info": {
   "codemirror_mode": {
    "name": "ipython",
    "version": 3
   },
   "file_extension": ".py",
   "mimetype": "text/x-python",
   "name": "python",
   "nbconvert_exporter": "python",
   "pygments_lexer": "ipython3",
   "version": "3.8.5"
  }
 },
 "nbformat": 4,
 "nbformat_minor": 4
}