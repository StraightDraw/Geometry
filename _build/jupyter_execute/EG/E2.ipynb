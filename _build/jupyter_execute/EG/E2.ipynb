{
 "cells": [
  {
   "cell_type": "markdown",
   "metadata": {},
   "source": [
    "# 3.2 Area and Congruence"
   ]
  },
  {
   "cell_type": "markdown",
   "metadata": {},
   "source": [
    "We have discussed several issues with Euclid. We have arrived at another: How do we define area? If rectangular area is defined, then we can calculate the area of triangles. Using triangles and rectangles, we can calcuate polygon areas. Since rectangles don't exist in neutral geometry, our standard notion of area only exists in Euclidean geometry. In any other geometry, calculating an area will prove troublesome. However, we're developing Euclidean geometry in this section. Please note that SMSG Axiom 20 states that \"the area of a rectangle is the product of the length of its base and the length of its altitude.\"\n",
    "\n",
    "Similar Polygons\n",
    ": Two polygons are *similar* provided that \n",
    "  + corresponding sides of each are in the same proportion, and \n",
    "  + corresponding interior angles are congruent.\n",
    "    ````{note}\n",
    "    Note the first requirement implies a constant ratio of proportionality for any two pairs of side lengths.\n",
    "    ````\n",
    "\n",
    "## Theorems\n",
    "1. The area of a parallelogram is the product of the lengths of its base and height.\n",
    "2. The area of a triangle is one-half the product of the any base and the corresponding height.\n",
    "\n",
    "    ````{warning}\n",
    "    Two different definitions of a trapezoid are both in use: possessing *exactly* one pair of parallel sides vs. possessing *at least* one pair of parallel sides. The first means no parallelograms are trapezoids while the second means all parallelograms are trapezoids. More common is the one defined above where parallelograms are *not* trapezoids. High school teachers should note carefully which definition is used in their curriculum materials especially when using classrooms resources and activities from the interwebs.\n",
    "    ````\n",
    "\n",
    "3. The area of a trapezoid is the product of its height and the arithmetic mean of its bases.\n",
    "4. **Basic Proportionality Theorem**. A line parallel to one side of a triangle intersects the other two sides in two different points if and only if it divides these sides into segments that are proportional.\n",
    "    ````{tip}\n",
    "    The \"two different points\" simply requires the point of intersection to not be the vertex.\n",
    "    ````\n",
    "5. **AAA Triangle Similarity**. If the interior angles of one triangle are congruent to corresponding angles of a second triangle, then the triangles are similar.\n",
    "6. **SAS Triangle Similarity**. If an angle of one triangle is congruent to the corresponding angle of a second triangle, and the corresponding sides adjacent to these angles are in proportion, then the triangles are similar.\n",
    "7. **SAS Triangle Similarity**. If the lengths of the sides of one triangle are proportional to the corresponding side lengths of a second triangle, then the triangles are similar.\n",
    "8. **Pythagorean Theorem**. If $a$ and $b$ are the lengths of the legs of a right triangle the hypotenuse of which has length $c$, then $a^2+b^2=c^2$.\n",
    "    "
   ]
  }
 ],
 "metadata": {
  "kernelspec": {
   "display_name": "Python 3",
   "language": "python",
   "name": "python3"
  },
  "language_info": {
   "codemirror_mode": {
    "name": "ipython",
    "version": 3
   },
   "file_extension": ".py",
   "mimetype": "text/x-python",
   "name": "python",
   "nbconvert_exporter": "python",
   "pygments_lexer": "ipython3",
   "version": "3.8.5"
  }
 },
 "nbformat": 4,
 "nbformat_minor": 4
}