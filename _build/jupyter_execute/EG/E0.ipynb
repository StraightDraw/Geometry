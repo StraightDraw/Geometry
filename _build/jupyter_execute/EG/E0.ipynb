{
 "cells": [
  {
   "cell_type": "markdown",
   "metadata": {},
   "source": [
    "# Euclidean Geometry"
   ]
  },
  {
   "cell_type": "markdown",
   "metadata": {},
   "source": [
    "We begin our investigation of Euclidean geometry with all the theorems of neutral geometry already established. We also, at long last, get to use the Playfair's parallel postulate (SMSG Axiom 16).\n",
    "    "
   ]
  },
  {
   "cell_type": "markdown",
   "metadata": {},
   "source": [
    "The proofs of theorems below can be proven using the SMSG postulates and the neutral geometry theorems provided in the previous section. In the SMSG axiom list, Axiom 16 is the Euclidean parallel postulate. All fifteen prior axioms are used to prove neutral geometry resulsts. Axioms 16 through 22 are needed to fully prove all Euclidean results for plane geometry.\n",
    "\n",
    "The most direct route from Neutral to Euclidean Geometry, after we have a parallel postulate, is through the Alternate Interior Angle Theorem which was proven in the Neutral Geometry Section. Let's give a summary of what was already *proven* true in Neutral Geometry regarding parallel and perpendicular lines:\n",
    "\n",
    "* **Alternate Interior Angle Theorem**. If two lines are intersected by a transversal such that a pair of alternate interior angles is congruent, then the lines are parallel.\n",
    "* **Perpendicular Uniqueness**. Given a line $l$ and any point $P$ not on $l$, there exists a unique line $m$ such that $P\\in m$ and $m\\perp l$.\n",
    "* Two lines perpendicular to the same line are parallel (corollary to AIA Theorem)."
   ]
  },
  {
   "cell_type": "markdown",
   "metadata": {},
   "source": [
    "Parallel lines exist in neutral geometry. The problem is that, given line $l$, *more than one* line through a point $P$ might be parallel to $l$. With the addition of SMSG Axiom 16, we can prove these very similar statements must be true in Euclidean Geometry:\n",
    "\n",
    "* **Converse of the Alternate Interior Angle Theorem (CAIA)**. If two parallel lines are intersected by a transversal, then the alternate interior angles formed are congruent.\n",
    "* **Parallel Uniqueness**. Given a line $l$ and any point $P$ not on $l$, there exists a unique line $m$ such that $P\\in m$ and $m\\parallel l$.\n",
    "* If a line is perpendicular to one of two parallel lines, then it is perpedicular to the other.\n",
    "\n",
    "The fulcrum is focused on alternate interior angles when two lines are cut by a transversal."
   ]
  },
  {
   "cell_type": "markdown",
   "metadata": {},
   "source": [
    "\n",
    "```{toctree}\n",
    ":hidden:\n",
    ":titlesonly:\n",
    "\n",
    "\n",
    "E1\n",
    "E1b\n",
    "E2\n",
    "E3\n",
    "E4\n",
    "```\n"
   ]
  }
 ],
 "metadata": {
  "kernelspec": {
   "display_name": "Python 3",
   "language": "python",
   "name": "python3"
  },
  "language_info": {
   "codemirror_mode": {
    "name": "ipython",
    "version": 3
   },
   "file_extension": ".py",
   "mimetype": "text/x-python",
   "name": "python",
   "nbconvert_exporter": "python",
   "pygments_lexer": "ipython3",
   "version": "3.8.5"
  }
 },
 "nbformat": 4,
 "nbformat_minor": 4
}