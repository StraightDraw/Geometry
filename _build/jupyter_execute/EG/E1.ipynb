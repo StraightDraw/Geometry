{
 "cells": [
  {
   "cell_type": "markdown",
   "metadata": {},
   "source": [
    "# 3.1 Building Blocks"
   ]
  },
  {
   "cell_type": "markdown",
   "metadata": {},
   "source": [
    "We proved parallel lines exist in neutral geometry using only Euclid's first four axioms. \n",
    "\n",
    "````{note}\n",
    "Right angles and perpendicularity work reasonably well in neutral geometry.\n",
    "````\n",
    "\n",
    "Since two lines perpendicular to the same line are parallel, we know that we construct some parallel lines. Now that we have a parallel postulate, we only need a few definitions to be ready to prove important results."
   ]
  },
  {
   "cell_type": "markdown",
   "metadata": {},
   "source": [
    "Median\n",
    ": A line passing through a vertex and the midpoint of the side opposite that vertex.\n",
    "\n",
    "Parallel Segments\n",
    ": We call line segments *parallel* if they are contained in lines that are parallel.\n",
    "\n",
    "Distance from a point to a line\n",
    ": Given a point $P$ not on line $l$, the *distance between $P$ and $l$* is the distance $PQ$ where $Q\\in l$ and $\\overleftrightarrow{PQ}\\perp l$.\n",
    "\n",
    "Trapezoid\n",
    ": A convex quadrilateral with *exactly one pair* of parallel sides.\n",
    "\n",
    "Isosceles Trapezoid\n",
    ": A trapezoid with non-parallel sides congruent.\n",
    "\n",
    "Kite\n",
    ": A quadrilateral with two pairs of adjacent sides congruent.\n",
    "\n",
    "Rhombus\n",
    ": A parallelogram with all sides congruent."
   ]
  },
  {
   "cell_type": "markdown",
   "metadata": {},
   "source": [
    "## Theorems\n",
    "1. Converse of the Alternate Interior Angle Theorem. If two parallel lines are intersected by a transversal, then the alternate interior angles formed are congruent.\n",
    "2.  The sum of the measures of the interior angles of triangle is $180^\\circ$. \n",
    "\n",
    "    ````{tip}\n",
    "    For a neutral geometry, the angle sum for triangle was at most $180^\\circ$. What forces the equality in Euclidean space?\n",
    "    ````\n",
    "\n",
    "3.  **Euclidean Exterior Angle Theorem**. The measure of an exterior angle of a triangle is equal to the sum of the measures of the two remote interior angles.\n",
    "\n",
    "4. **Parallelogram Decomposition Theorem**. [^1]  In parallelogram $ABCD$, $\\triangle{ABD} \\cong \\triangle{CDB}$ and $\\triangle{ABC}\\cong\\triangle{CDA}$.\n",
    "\n",
    "    <iframe scrolling=\"no\" title=\"Angle Interior\" src=\"https://www.geogebra.org/material/iframe/id/hakjwjtn/width/1000/height/400/border/888888/sfsb/true/smb/false/stb/false/stbh/false/ai/false/asb/false/sri/false/rc/false/ld/false/sdz/true/ctl/false\" width=\"100%\" height=\"100%\" style=\"border:0px;\" allowfullscreen; style=\"display:block\" > </iframe>\n",
    "\n",
    "    ````{note}\n",
    "    Two important corrolaries of the Parallelogram Decomposition theorem will be quite useful.\n",
    "    ```{panels}\n",
    "    :column: col-6\n",
    "    :card: border-2\n",
    "    Segments\n",
    "    ^^^\n",
    "    Opposite *sides* of a parallelogram are *congruent*.\n",
    "    ---\n",
    "    Angles\n",
    "    ^^^\n",
    "    Opposite *angles* of a parallelogram are *congruent*.\n",
    "    ```\n",
    "    ````\n",
    "\n",
    "    ````{note}\n",
    "    The next few important theorems identify key relationship about the diagonals of quadrilaterals.\n",
    "    ```{tip}\n",
    "    The Isosceles Triangle theorem and its corollary -- both proved in neutral geometry -- are useful in proving the theorems below.\n",
    "    ```\n",
    "    ````\n",
    "\n",
    "5. The diagonals of a quadrilateral bisect each other if and only the quadrilateral is a parallelogram.\n",
    "6. Exactly one diagonal of a quadrilateral is the perpendicular bisector of the other if and only if the quadrilateral is a kite.\n",
    "\n",
    "    ````{margin}\n",
    "    ```{seealso}\n",
    "    After Theorem 7, we can prove our {doc}`Second Construction Theorem</CN/C1>`.\n",
    "    ```\n",
    "    ````\n",
    "\n",
    "7. The diagonals of a quadrilateral are perpendicular bisectors of one another if and only if the quadrilateral is a rhombus.\n",
    "\n",
    "9. The diagonals of a quadrilateral are congruent perpendicular bisectors of one another if and only if the quadrilateral is a square."
   ]
  },
  {
   "cell_type": "code",
   "execution_count": null,
   "metadata": {},
   "outputs": [],
   "source": []
  }
 ],
 "metadata": {
  "kernelspec": {
   "display_name": "Python 3",
   "language": "python",
   "name": "python3"
  },
  "language_info": {
   "codemirror_mode": {
    "name": "ipython",
    "version": 3
   },
   "file_extension": ".py",
   "mimetype": "text/x-python",
   "name": "python",
   "nbconvert_exporter": "python",
   "pygments_lexer": "ipython3",
   "version": "3.7.6"
  }
 },
 "nbformat": 4,
 "nbformat_minor": 4
}