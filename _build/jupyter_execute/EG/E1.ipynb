{
 "cells": [
  {
   "cell_type": "markdown",
   "metadata": {},
   "source": [
    "# 3.1 Building Blocks"
   ]
  },
  {
   "cell_type": "markdown",
   "metadata": {},
   "source": [
    "Neutral geometry has parallel lines, in fact, too many. Infinitely many are possible. SMSG Axioms 1-15 force parallels to be possible, but the question of unique parallels vs. infintely many remains unanswered until we add SMSG Axiom 16 (Playfair's Postulate). By saying \"at most one,\" we force unique parallels. The possibility of \"no parallels at all\" has already been eliminated. This restriction immediately allows for the proof of several important theorems. First, let's lay out the definitions we will need."
   ]
  },
  {
   "cell_type": "markdown",
   "metadata": {},
   "source": [
    "Median\n",
    ": A line passing through a vertex and the midpoint of the side opposite that vertex.\n",
    "\n",
    "Parallel Segments\n",
    ": We call line segments *parallel* if they are contained in lines that are parallel.\n",
    "\n",
    "Distance from a point to a line\n",
    ": Given a point $P$ not on line $l$, the *distance between $P$ and $l$* is the distance $PQ$ where $Q\\in l$ and $\\overleftrightarrow{PQ}\\perp l$.\n",
    "\n",
    "Trapezoid\n",
    ": A convex quadrilateral with *exactly one pair* of parallel sides.\n",
    "\n",
    "Isosceles Trapezoid\n",
    ": A trapezoid with non-parallel sides congruent.\n",
    "\n",
    "Kite\n",
    ": A quadrilateral with two pairs of adjacent sides congruent.\n",
    "\n",
    "Rhombus\n",
    ": A parallelogram with all sides congruent."
   ]
  },
  {
   "cell_type": "markdown",
   "metadata": {},
   "source": [
    "## Theorems\n",
    "1. Converse of the Alternate Interior Angle Theorem. If two parallel lines are intersected by a transversal, then the alternate interior angles formed are congruent.\n",
    "2.  The sum of the measures of the interior angles of triangle is $180^\\circ$. \n",
    "\n",
    "    ````{tip}\n",
    "    For a neutral geometry, the angle sum for triangle was at most $180^\\circ$. What forces the equality in Euclidean space?\n",
    "    ````\n",
    "\n",
    "3.  **Euclidean Exterior Angle Theorem**. The measure of an exterior angle of a triangle is equal to the sum of the measures of the two remote interior angles.\n",
    "\n",
    "4. **Parallelogram Decomposition Theorem**. [^1]  In parallelogram $ABCD$, $\\triangle{ABD} \\cong \\triangle{CDB}$ and $\\triangle{ABC}\\cong\\triangle{CDA}$.\n",
    "\n",
    "    ````{note}\n",
    "    Two important corrolaries provide facts about parallelograms that are quite useful in our proofs.\n",
    "    ````\n",
    "    + Opposite *sides* of a parallelogram are *congruent*.\n",
    "    + Opposite *angles* of a parallelogram are *congruent*.\n",
    "\n",
    "\n",
    "    ````{note}\n",
    "    The next few important theorems identify key relationship about the diagonals of quadrilaterals.\n",
    "    ````\n",
    "\n",
    "5. The diagonals of a quadrilateral bisect each other if and only the quadrilateral is a parallelogram.\n",
    "\n",
    "    We have enough theorems to formally prove several important theorems that will help prove our compass and straitedge constructions have the required properties. The behavior of the diagonals of kites are the lever we use to create perpendicular lines and find midpoints of segments. The proof for all three relies upon a result of the Isosceles Triangle theorem.\n",
    "\n",
    "6. Corrollary to the Isosceles Triangle Theorem. A point is on the perpendicular bisector of a line segment if and only if it is equidistant from the endpoints of the line segment.\n",
    "\n",
    "7. Exactly one diagonal of a quadrilateral is the perpendicular bisector of the other if and only if the quadrilateral is a kite.\n",
    "\n",
    "    ````{margin}\n",
    "    ```{seealso}\n",
    "    After Theorem 8, we can prove our {doc}`Second Construction Theorem</CN/C1>`.\n",
    "    ```\n",
    "    ````\n",
    "\n",
    "8. The diagonals of a quadrilateral are perpendicular bisectors of one another if and only if the quadrilateral is a rhombus.\n",
    "\n",
    "9. The diagonals of a quadrilateral are congruent perpendicular bisectors of one another if and only if the quadrilateral is a square."
   ]
  }
 ],
 "metadata": {
  "kernelspec": {
   "display_name": "Python 3",
   "language": "python",
   "name": "python3"
  },
  "language_info": {
   "codemirror_mode": {
    "name": "ipython",
    "version": 3
   },
   "file_extension": ".py",
   "mimetype": "text/x-python",
   "name": "python",
   "nbconvert_exporter": "python",
   "pygments_lexer": "ipython3",
   "version": "3.8.5"
  }
 },
 "nbformat": 4,
 "nbformat_minor": 4
}