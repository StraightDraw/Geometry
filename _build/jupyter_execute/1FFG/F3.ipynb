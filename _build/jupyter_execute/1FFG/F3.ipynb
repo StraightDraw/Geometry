{
 "cells": [
  {
   "cell_type": "markdown",
   "metadata": {},
   "source": [
    "# 1.3 Five Point Geometry"
   ]
  },
  {
   "cell_type": "markdown",
   "metadata": {},
   "source": [
    "The Five Point Geometry (5PG) uses the standard undefined and defined terms for finite geometry.\n",
    "\n",
    "````{panels}\n",
    "**Undefined Terms**\n",
    "^^^\n",
    "Point, Line and On\n",
    "---\n",
    "\n",
    "**Defined Terms**\n",
    "^^^\n",
    "Parallel, Intersect and Concurrent\n",
    "````"
   ]
  },
  {
   "cell_type": "markdown",
   "metadata": {},
   "source": [
    "````{margin}\n",
    "```{figure} Fig2_5PG.png\n",
    "---\n",
    "width: 90%\n",
    "name: 5PG\n",
    "---\n",
    "Model for the Five Point Geometry\n",
    "```\n",
    "````"
   ]
  },
  {
   "cell_type": "markdown",
   "metadata": {},
   "source": [
    "````{admonition} Axioms for the 5PG\n",
    ":class: note\n",
    "1. There exist exactly five points.\n",
    "2. Any two distinct points have exactly one line on both of them.\n",
    "3. Each line is on exactly two points.\n",
    "````\n",
    "\n",
    "````{tip}\n",
    "The only difference between the axioms for the 4PG and 5PG is the word \"four\" changing to \"five\" in the first axiom.\n",
    "````"
   ]
  },
  {
   "cell_type": "markdown",
   "metadata": {},
   "source": [
    "## 5PG Theorems\n",
    "\n",
    "1. How many distinct lines are in the Five Point Geometry? Prove your conjecture.\n",
    "2. Prove or disprove: There exists a set of **two** lines in the Five Point Geometry that contain all of the points in the geometry. If you disprove this statement, change the word in bold so that the theorem is true, and prove the new theorem."
   ]
  },
  {
   "cell_type": "markdown",
   "metadata": {},
   "source": [
    "We will return to Five Point Geometry later when we discuss *affine* geometries. The next two finite geometries are iconic: Fano's Geometry and Young's Geometry."
   ]
  }
 ],
 "metadata": {
  "kernelspec": {
   "display_name": "Python 3",
   "language": "python",
   "name": "python3"
  },
  "language_info": {
   "codemirror_mode": {
    "name": "ipython",
    "version": 3
   },
   "file_extension": ".py",
   "mimetype": "text/x-python",
   "name": "python",
   "nbconvert_exporter": "python",
   "pygments_lexer": "ipython3",
   "version": "3.8.5"
  }
 },
 "nbformat": 4,
 "nbformat_minor": 4
}