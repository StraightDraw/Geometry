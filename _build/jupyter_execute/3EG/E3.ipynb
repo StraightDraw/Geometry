{
 "cells": [
  {
   "cell_type": "markdown",
   "metadata": {},
   "source": [
    "# 3.3 Area and Similarity"
   ]
  },
  {
   "cell_type": "markdown",
   "metadata": {},
   "source": [
    "How do we define area? Neutral geometry has right triangles but no rectangles, so the traditional idea of a rectangular (or square) area only exists in Euclidean geometry. \n",
    "\n",
    "````{warning}\n",
    "In any non-Eudclidean geometry, calculating the area of a triangle will prove troublesome.\n",
    "````\n",
    "\n",
    "Our work is made much easier because the SMSG axiom set has an area postulate which provides the normal definition of rectangular area.\n",
    "\n",
    "````{epigraph}\n",
    "The area of a rectangle is the product of the length of its base and the length of its altitude.\n",
    "\n",
    "--SMSG Axiom 20\n",
    "````"
   ]
  },
  {
   "cell_type": "markdown",
   "metadata": {},
   "source": [
    "We can use the SMSG Area Postulate to derive the typical formuals for the areas of triangles, trapezoids and parallelograms. The following definitions will also be helpful.\n",
    "\n",
    "Parallel Segments\n",
    ": We call line segments *parallel* if they are contained in lines that are parallel.\n",
    "\n",
    "Distance from a point to a line\n",
    ": Given a point $P$ not on line $l$, the *distance between $P$ and $l$* is the distance $PQ$ where $Q\\in l$ and $\\overleftrightarrow{PQ}\\perp l$.\n",
    "\n",
    "Trapezoid\n",
    ": A convex quadrilateral with exactly one pair of parallel sides.\n",
    "\n",
    "````{warning}\n",
    "Two definitions of a trapezoid exist: *exactly* one pair of parallel sides, or *at least* one pair of parallel sides. The former excludes parallelograms while the latter includes them. Generally, especially in K-12 mathematics, the \"*exactly* one pair of parallel sides\" definition is preferred.\n",
    "````\n",
    "\n",
    "Kite\n",
    ": A convex quadrilateral with two pairs of adjacent sides congruent.\n",
    "\n",
    "Rhombus\n",
    ": A parallelogram with all sides congruent.\n",
    "\n",
    "Square\n",
    ": A parallelogram with a right angle.\n",
    "\n",
    "Similar Polygons\n",
    ": Two polygons are *similar* provided (i) corresponding sides of each are in the same proportion, and (ii) corresponding interior angles are congruent."
   ]
  },
  {
   "cell_type": "markdown",
   "metadata": {},
   "source": [
    "Congruence is a more primitive geometric idea than similarity, even though, ironically, similarity has fewer restrictions. \n",
    "\n",
    "````{tip}\n",
    "Similarity proofs often use areas of triangles as numerators or deonominators to establish the required proportion. Until we have proven some results about area, proving similarity theorems is difficult.\n",
    "````\n",
    "\n",
    "The parallelogram decomposition theorem stated that we could always create congruent triangles by drawing the diagonal of a parallelogram and considering the two resulting triangles. The theorem is true in the reverse: given any two congruent triangles, they can be joined to create a parallelogram. We will put the following in our toolbox:"
   ]
  },
  {
   "cell_type": "markdown",
   "metadata": {},
   "source": [
    "## Theorems\n",
    "1. The area of a parallelogram is the product of the lengths of its base and height.\n",
    "\n",
    "2. Parallelogram Recomposition Theorem. If $\\triangle{ABC}\\cong\\triangle{XYZ}$ and $X=B$ and $Y=A$, then $AZBC$ is a parallelogram.\n",
    "\n",
    "    <iframe scrolling=\"no\" title=\"Angle Interior\" src=\"https://www.geogebra.org/material/iframe/id/mdz5ks7k/width/840/height/500/border/888888/sfsb/true/smb/false/stb/false/stbh/false/ai/false/asb/false/sri/false/rc/false/ld/false/sdz/true/ctl/false\" width=\"100%\" height=\"100%\" style=\"border:0px;\" allowfullscreen; style=\"display:block\" > </iframe>\n",
    "\n",
    "3. The area of a triangle is one-half the product of the any base and the corresponding height.\n",
    "\n",
    "4. The area of a trapezoid is the product of its height and the arithmetic mean of its bases.\n",
    "\n",
    "````{margin}\n",
    "![Pythagorean Theorem](https://www.mathsisfun.com/geometry/images/pythagoras.svg)\n",
    "Area Proof of Pythagorean Theorem\n",
    "````\n",
    "\n",
    "5. **Pythagorean Theorem (Area Proof)**. If $a$ and $b$ are the lengths of the legs of a right triangle the hypotenuse of which has length $c$, then $a^2+b^2=c^2$.\n",
    "\n",
    "6. **Basic Proportionality Theorem**. A line parallel to one side of a triangle intersects the other two sides in two different points if and only if it divides these sides into segments that are proportional. \n",
    "    \n",
    "    ````{note}\n",
    "    The ``two different points\" verbiage requires the point of intersection to not be the vertex.\n",
    "    ````\n",
    "\n",
    "7. **AAA Triangle Similarity**. If the interior angles of one triangle are congruent to corresponding angles of a second triangle, then the triangles are similar.\n",
    "\n",
    "8. **SAS Triangle Similarity**. If an angle of one triangle is congruent to the corresponding angle of a second triangle, and the corresponding sides adjacent to these angles are in proportion, then the triangles are similar.\n",
    "\n",
    "9. **SSS Triangle Similarity**. If the lengths of the sides of one triangle are proportional to the corresponding side lengths of a second triangle, then the triangles are similar."
   ]
  },
  {
   "cell_type": "code",
   "execution_count": null,
   "metadata": {},
   "outputs": [],
   "source": []
  }
 ],
 "metadata": {
  "kernelspec": {
   "display_name": "Python 3",
   "language": "python",
   "name": "python3"
  },
  "language_info": {
   "codemirror_mode": {
    "name": "ipython",
    "version": 3
   },
   "file_extension": ".py",
   "mimetype": "text/x-python",
   "name": "python",
   "nbconvert_exporter": "python",
   "pygments_lexer": "ipython3",
   "version": "3.7.6"
  }
 },
 "nbformat": 4,
 "nbformat_minor": 4
}