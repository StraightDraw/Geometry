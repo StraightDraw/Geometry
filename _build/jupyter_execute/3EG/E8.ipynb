{
 "cells": [
  {
   "cell_type": "markdown",
   "metadata": {},
   "source": [
    "# 3.8 Homework"
   ]
  },
  {
   "cell_type": "markdown",
   "metadata": {},
   "source": [
    "Definitions\n",
    ": A quadrilateral with exactly one pair of opposite sides parallel.  The parallel sides of a trapezoid are called the *bases*. The non-parallel sides of a trapezoid are called the *legs*. The *base angles* of a trapezoid refer to a pair of angles whose vertices are the endpoints of the same base segment.\n",
    "\n",
    "Median of a Trapezoid\n",
    ": The line segment joining the midpoints of the legs."
   ]
  },
  {
   "cell_type": "markdown",
   "metadata": {},
   "source": [
    "## Theorems\n",
    "1. The area of a right triangle is one-half the product of the lengths of its legs.\n",
    "2. The sum of the measures of the interior angles of a convex $n$-gon is $(n-2)(180^\\circ)$.\n",
    "3. The sum of the measures of the exterior angles of a convex $n$-gon is $360^\\circ$.\n",
    "4. The median of a trapezoid is parallel to the bases and its length is half the sum of the lengths of the bases. \n",
    "5. A trapezoid has congruent diagonals if and only if it is isosceles.\n",
    "6. The line segment joining the midpoints of the bases of an isosceles trapezoid is perpendicular to both.\n",
    "7. Opposite angles of a trapezoid are supplementary if and only if it is isosceles.\n",
    "8. A quadrilateral is a convex kite if and only if one of its diagonals is the perpendicular bisector of the other.\n",
    "9. In a convex kite, the diagonals are perpendicular. \n",
    "10. In a convex kite, there exists a pair of opposite angles congruent.\n",
    "11. In every kite, there exists a diagonal that - along with the sides of the kite - forms two isosceles triangles.\n",
    "12. A convex kite has at least one diagonal that bisects a pair of opposite angles.\n",
    "13. A quadrilateral is a parallelogram if and only if two pairs of opposite sides are congruent. \n",
    "14. **Conjecture**. A quadrilateral is a parallelogram if and only if every pair of adjecent angles is supplementary. Prove or disprove.\n",
    "15. A quadrilateral is a parallelogram if and only if its diagonals bisect each other.\n",
    "16. A quadrilateral is a parallelogram if and only if there exists a pair of opposite sides that are both parallel and congruent.\n",
    "17. A quadrilateral is a rectangle if and only if its diagonals are congruent bisectors. \n",
    "18. A rectangle has four right angles.\n",
    "19. A parallelogram is a rhombus if and only if its diagonals are perpendicular.\n",
    "20. A quadrilateral is a rhombus if and only if both its diagonals bisect a pair of opposite angles.\n",
    "21. A quadrilateral is a square if and only if it is a rectangle that is also a rhombus.\n",
    "22. A quadrilateral is a square if and only if it is a rhombus with a right angle.\n",
    "23. A quadrilateral is a square if and only if it is a rhombus with two adjacent sides perpendicular.\n",
    "24. The area of a rhombus is one-half the product of its diagonals.\n",
    "25. Create a conjecture about the diagonals of a square, and prove it.\n",
    "26. Rays $\\overrightarrow{AB}$ and $\\overrightarrow{AC}$ are tangent to a circle at $B$ and $C$. Chord $\\overline{BD}$ is drawn from $B\\parallel \\overrightarrow{AC}$. Prove that $\\triangle BCD$ is isosceles.\n",
    "27. The point $A$ is in the interior of a circle with center $O$ and radius $r$. Prove that $CA\\times AD=r^2-(OA)^2$ where $\\overline{DC}$ is any chord through $A$.\n",
    "28. The diagonals of trapezoid $ABCD$ with bases $\\overline{AB}\\parallel\\overline{CD}$ meet at the point $P$. The legs of the trapezoid are tangent to the circle through points $D,P,C$ at points $D$ and $C$. Prove:\n",
    "    1. $\\angle BAC\\cong\\angle ADB$.\n",
    "    2. $\\overline{AB}$ is tangent to the circle through points $D,P,A$.\n",
    "    3. Quadrilateral $ABCD$ is cyclic.\n",
    "\n",
    "29. An inscribed triangle one side of which is a diameter of the circle must be a right triangle.\n",
    "30. Angles inscribed in the same or congruent arcs are congruent.\n",
    "31. $\\triangle ABC$ is inscribed in a circle with $\\overleftrightarrow{RS}$ tangent to the circle at point $C$ with $R*C*S$. Prove:\n",
    "    1. $\\angle RCA\\cong\\angle B$, and\n",
    "    2. $\\angle SCB\\cong\\angle A$.\n",
    "\n",
    "32. **Law of Sines**. In any $\\triangle ABC$, $$\\frac{a}{\\sin A}=\\frac{b}{\\sin B}=\\frac{c}{\\sin C}=2r$$ where r is the radius of the circumcircle of $\\triangle ABC$. \n",
    "\n",
    "    ````{hint} \n",
    "    Prove $\\frac{a}{\\sin A}=2r$ using three cases.\n",
    "    ````\n",
    "33. All four sides of quadrilateral $ABCD$ are tangent to an inscribed circle. Prove that the sums of the lengths of opposite sides of $ABCD$ are equal, e.g.$$AB+CD=BC+DA$$\n",
    "34. A common chord of two overlapping circles joins the points of intersection of the circles and is thus a chord for both. Prove that the three common chords of three mutually overlapping circles are concurrent. \n",
    "\n",
    "    ````{note}\n",
    "    We don't neccessarily have three common chords in general, so the circles must intersect in ways that produce three common chords.\n",
    "    ````"
   ]
  }
 ],
 "metadata": {
  "kernelspec": {
   "display_name": "Python 3",
   "language": "python",
   "name": "python3"
  },
  "language_info": {
   "codemirror_mode": {
    "name": "ipython",
    "version": 3
   },
   "file_extension": ".py",
   "mimetype": "text/x-python",
   "name": "python",
   "nbconvert_exporter": "python",
   "pygments_lexer": "ipython3",
   "version": "3.8.5"
  }
 },
 "nbformat": 4,
 "nbformat_minor": 4
}