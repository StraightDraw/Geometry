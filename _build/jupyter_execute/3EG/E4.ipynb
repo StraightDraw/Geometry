{
 "cells": [
  {
   "cell_type": "markdown",
   "metadata": {},
   "source": [
    "# 3.4 Right Triangles"
   ]
  },
  {
   "cell_type": "markdown",
   "metadata": {},
   "source": [
    "If a triangle has a right angle, several interesting relationships form. Now that we have similarity defined, we can use it for a second proof of the Pythaogrean Theorem. The area-based proof of the Pythagorean Theorem was shown earlier, but the similarity proof demonstrates the close relationship between the Pythagorean Theorem and the Geometric Mean Theorem."
   ]
  },
  {
   "cell_type": "markdown",
   "metadata": {},
   "source": [
    "## Theorems\n",
    "\n",
    "1. If a line segment has as its endpoints the midpoints of two sides of a triangle, then the segment is parallel to and one-half the length of the third side of the triangle. \n",
    "\n",
    "\n",
    "    ````{figure} ../images/TriangleMidpointLine.png\n",
    "    ---\n",
    "    width: \"50%\"\n",
    "    name: Medians of a triangle\n",
    "    ---\n",
    "    If $D,E$ midpoints of $\\overline{AB},\\overline{AC}$ respectively, then $\\overline{DE}\\parallel\\overline{BC}$ and $DE = \\frac{1}{2}BC$.\n",
    "    ````\n",
    "\n",
    "    ````{note} \n",
    "    The above theorem has a stunning implication: the midpoints of **any quadrilateral** are the vertices of a parallelogram. While it doesn't exactly fit the theme of this section, we'll prove it here because it is a straightforward consequence of the theorem we just proved.\n",
    "    ````\n",
    "2. The midpoints of the sides of a quadrilateral are the vertices of a convex parallelogram.\n",
    "\n",
    "3. In a right triangle, the median from the right angle to the hypotenuse is one-half the length of the hypotenuse.\n",
    "\n",
    "4. In a right triangle, one of the angles measures $30^\\circ$ if and only if the side opposite this angle is one-half the length of the hypotenuse. \n",
    "\n",
    "    ````{note}\n",
    "    This result along with the Pythagorean Theorem gives us the $1-2-\\sqrt3$ ratio of side lengths for $30-60-90$ right triangles. Recall that the Pythagorean Theorem is equivalent to the Euclidean parallel postulate and will be proven later.\n",
    "    ````\n",
    "\n",
    "5. **Pythagorean Theorem (Similarity Proof)**. If $a$ and $b$ are the lengths of the legs of a right triangle the hypotenuse of which has length $c$, then $a^2+b^2=c^2$."
   ]
  }
 ],
 "metadata": {
  "kernelspec": {
   "display_name": "Python 3",
   "language": "python",
   "name": "python3"
  },
  "language_info": {
   "codemirror_mode": {
    "name": "ipython",
    "version": 3
   },
   "file_extension": ".py",
   "mimetype": "text/x-python",
   "name": "python",
   "nbconvert_exporter": "python",
   "pygments_lexer": "ipython3",
   "version": "3.7.6"
  }
 },
 "nbformat": 4,
 "nbformat_minor": 4
}