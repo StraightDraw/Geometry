{
 "cells": [
  {
   "cell_type": "markdown",
   "metadata": {},
   "source": [
    "# Cut the Knot"
   ]
  },
  {
   "cell_type": "markdown",
   "metadata": {},
   "source": [
    "A beautiful mathematics website with hundreds of geometric constructions, problems, puzzles and important theorems usually well illstruated.\n",
    "\n",
    "[Cut-the-knot.org](https://www.cut-the-knot.org/)\n",
    "\n",
    "Scan through the [glossary of math terms](https://www.cut-the-knot.org/glossary) to find an idea, or search the [geometry index](http://www.cut-the-knot.org/geometry.shtml). Also consider using an advance Google search where you specify the site \"cut-the-knot.org\" and put in a geometric term.\n",
    "\n",
    "````{tip}\n",
    "Try a Google search like this\n",
    "```\n",
    "triangle site:http://www.cut-the-knot.org\n",
    "```\n",
    "Replace the word triangle with any basic geometry term to see an expansive array of ideas.\n",
    "````"
   ]
  },
  {
   "cell_type": "markdown",
   "metadata": {},
   "source": [
    "## Project Ideas\n",
    "\n",
    "There is so much interesting geometry at the cut-the-knot, it's hard to list a Top Ten or anything like that. Click on a few of the links below to see what kinds of things are possible. Definitely spend some time kicking around cut-the-knot before you decide on your final project idea."
   ]
  },
  {
   "cell_type": "markdown",
   "metadata": {},
   "source": [
    "1. [Apollonian circles](https://www.cut-the-knot.org/Curriculum/Geometry/LocusCircle.shtml#ac) or just Apollonius in general\n",
    "2. [An old Japanese theorem](https://www.cut-the-knot.org/proofs/jap.shtml) with circles inscribed in polygons.\n",
    "3. Search for anything related to Archimedes\n",
    "4. [Sangaku and Egyptian Triangles](https://www.cut-the-knot.org/pythagoras/RopeStretchersSangaku.shtml#tr)\n",
    "5. Anything related to Ceva, for example, [Cevian triangles](https://www.cut-the-knot.org/Generalization/ceva.shtml#cevian)\n",
    "6. [The Buttefly Theorem](https://www.cut-the-knot.org/pythagoras/Butterfly.shtml)\n",
    "7. [Morley's mirale](https://www.cut-the-knot.org/triangle/Morley/)"
   ]
  }
 ],
 "metadata": {
  "kernelspec": {
   "display_name": "Python 3",
   "language": "python",
   "name": "python3"
  },
  "language_info": {
   "codemirror_mode": {
    "name": "ipython",
    "version": 3
   },
   "file_extension": ".py",
   "mimetype": "text/x-python",
   "name": "python",
   "nbconvert_exporter": "python",
   "pygments_lexer": "ipython3",
   "version": "3.7.6"
  }
 },
 "nbformat": 4,
 "nbformat_minor": 4
}