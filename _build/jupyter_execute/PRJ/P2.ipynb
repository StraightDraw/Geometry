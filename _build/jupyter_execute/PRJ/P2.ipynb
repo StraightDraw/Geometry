{
 "cells": [
  {
   "cell_type": "markdown",
   "metadata": {},
   "source": [
    "# Quadrature"
   ]
  },
  {
   "cell_type": "markdown",
   "metadata": {},
   "source": [
    "The Greeks understood area in terms of squares. They didn't \"fill up\" a rectangle with squares to measure it's area, they constructed a square with area equal to the area of the rectangle. By tradition, beginning with the Pythagoreans, this was accomplished with a compass and straightedge."
   ]
  },
  {
   "cell_type": "markdown",
   "metadata": {},
   "source": [
    "## Quadrature of Common figures"
   ]
  },
  {
   "cell_type": "markdown",
   "metadata": {},
   "source": [
    "The Greeks managed the quadrature of all rectangles, parallelograms and triangles using a method involving the constructon of the geometric mean of two values. For real numbers $a$ and $b$, the value $x$ where\n",
    "\n",
    "$$x = \\sqrt{ab}$$\n",
    "\n",
    "is the geometric mean. The Greeks also used these techniques of construction to solve various quadratic equations. Where we use algebraic tools to solve the equation\n",
    "\n",
    "$$ax^2+bx+c = 0$$\n",
    "\n",
    "the Greeks constructed a square with side length $x$. The Greeks generally worked with quadratics where the leading coefficient was a unit.\n",
    "\n",
    "$$\\begin{align*}x^2+bx+c &= 0 \\\\ x(x+b) &= -c\\end{align*}$$\n",
    "\n",
    "Base on the values $b$ and $c$, they could construct the correct square."
   ]
  },
  {
   "cell_type": "markdown",
   "metadata": {},
   "source": [
    "## Difficult Quadratures"
   ]
  },
  {
   "cell_type": "markdown",
   "metadata": {},
   "source": [
    "While the Greeks could find the quadrature of many polygons, areas involving circles and parabolas were much more difficult.\n",
    "\n",
    "Archimedes is regarded as the foremost mathematician of antiquity as well as one of the finest scientists of antiquity. While the Greeks knew many thoerems were true and used them in constructions, Archimedes was the first to rigorously derive formulas for the area of a circle and the volume and surface area of a sphere. He used the method of exhaustion and a primitive idea of infinitesimals to calculate volumes of revoluation, a Calculus II topic in most modern universities. Archimedes' quadrature of the surface area of a sphere and quadrature of a segment of a parabola stand as the most rigorous, analytic achievements of all antiquity.\n",
    "\n",
    "The lune of Hippocrates is worth considering as well. He defined a lune as the area trapped between circles of different radii. Not all lunes were solved, but many important cases of quadrature of lunes were developed."
   ]
  },
  {
   "cell_type": "markdown",
   "metadata": {},
   "source": [
    "### Squaring the Circle and other Impossible Quadratures"
   ]
  },
  {
   "cell_type": "markdown",
   "metadata": {},
   "source": [
    "While wildly succesful by any modern standard, the Greeks did fail at several quadratures. Most famously, they could not \"square the circle\" which remains to this day a metaphor for an impossible task. Three constructions have been proven to be impossible if only a compass and straightedge are used with only a finite number of construction steps.\n",
    "\n",
    "1. Squaring the circle. \n",
    "2. Doubling the cube.\n",
    "3. Trisecting an angle.\n",
    "\n",
    "The history of explorations in these areas continues to this day with a group called **cranks,** geometers who refuse to believe the rigorous proofs of mathematicians are correct. They still search for (and claim every few years to have found) ways to accomplish these tasks. This activity is called *pseudomathematics*."
   ]
  },
  {
   "cell_type": "markdown",
   "metadata": {},
   "source": [
    "## Project Ideas\n",
    "\n",
    "1. Archimedes\n",
    "2. Hippocrates\n",
    "3. Cranks and squaring the circle\n",
    "4. Quadrature of the lune\n",
    "5. Quadrature of rectangle, triangles and parallelograms\n",
    "6. Solving quadratics with quadrature\n",
    "7. Method of exhaustion"
   ]
  }
 ],
 "metadata": {
  "kernelspec": {
   "display_name": "Python 3",
   "language": "python",
   "name": "python3"
  },
  "language_info": {
   "codemirror_mode": {
    "name": "ipython",
    "version": 3
   },
   "file_extension": ".py",
   "mimetype": "text/x-python",
   "name": "python",
   "nbconvert_exporter": "python",
   "pygments_lexer": "ipython3",
   "version": "3.7.6"
  }
 },
 "nbformat": 4,
 "nbformat_minor": 4
}