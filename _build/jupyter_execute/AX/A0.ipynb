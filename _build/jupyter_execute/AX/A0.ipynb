{
 "cells": [
  {
   "cell_type": "markdown",
   "metadata": {},
   "source": [
    "# Axiomatics"
   ]
  },
  {
   "cell_type": "markdown",
   "metadata": {},
   "source": [
    "There are four sets of axioms that will produce Euclidean geometry.\n",
    "\n",
    "* Euclid's *Elements*\n",
    "* Hilbert\n",
    "* Birkhoff\n",
    "* School Mathematics Study Group (SMSG)\n",
    "\n",
    "*Elements* was the geometry text of choice for two millenia. However, the postulates are stated awkwardly, and huge assumptions are hidden everywhere.\n",
    "\n",
    "Hilbert's work in the late 1800's finally created an independent set of axioms that produced all of Euclidean geometry. His grouping of axioms established the core concepts for Eudlidean geometry: **incidence** axioms (how objects connect to each other), **betweeness** axioms and **congruence** axioms."
   ]
  },
  {
   "cell_type": "markdown",
   "metadata": {},
   "source": [
    "Birkhoff also created an independent set of only four axioms which do produce all of Euclidean geometry.\n",
    "\n",
    "The SMSG axioms are typically used for geometry in K-12 classrooms. They are not independent, but the move the starting point to interesting theorems."
   ]
  },
  {
   "cell_type": "markdown",
   "metadata": {},
   "source": [
    "\n",
    "```{toctree}\n",
    ":hidden:\n",
    ":titlesonly:\n",
    "\n",
    "\n",
    "A1\n",
    "A2\n",
    "A3\n",
    "A4\n",
    "```\n"
   ]
  }
 ],
 "metadata": {
  "kernelspec": {
   "display_name": "Python 3",
   "language": "python",
   "name": "python3"
  },
  "language_info": {
   "codemirror_mode": {
    "name": "ipython",
    "version": 3
   },
   "file_extension": ".py",
   "mimetype": "text/x-python",
   "name": "python",
   "nbconvert_exporter": "python",
   "pygments_lexer": "ipython3",
   "version": "3.8.5"
  }
 },
 "nbformat": 4,
 "nbformat_minor": 4
}