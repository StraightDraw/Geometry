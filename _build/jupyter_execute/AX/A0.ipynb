{
 "cells": [
  {
   "cell_type": "markdown",
   "metadata": {},
   "source": [
    "# Axioms for Euclidean Geometry"
   ]
  },
  {
   "cell_type": "markdown",
   "metadata": {},
   "source": [
    "This section includes four important sets of axioms that will produce Euclidean geometry.\n",
    "\n",
    "* Euclid's *Elements*\n",
    "* Hilbert\n",
    "* Birkhoff\n",
    "* School Mathematics Study Group (SMSG)\n",
    "\n",
    "````{note}\n",
    "Our course will use the **SMSG Axioms** for Neutral, Euclidean and Analytic Geometry.\n",
    "````\n",
    "\n",
    "*Elements* was the geometry text of choice for two millenia. However, the postulates are stated awkwardly, and huge assumptions are hidden in many statements. Many geometers improved upon Euclid over the years. For example, almost all geometers used the [Playfair Postulate](https://en.wikipedia.org/wiki/Playfair%27s_axiom) instead of Euclid's Fifth.\n",
    "\n",
    "````{dropdown} Playfair Postulate\n",
    "Given a line and a point not on it, at most one line parallel to the given line can be drawn through the point.\n",
    "````\n",
    "The efforts to clarify and correct Euclid's *Elements* culminated in the work of two great geometers: David Hilbert and George David Birkhoff.\n",
    "\n",
    "Hilbert's work in the late 1800's created a precise, complete and independent set of axioms that generate the entirity of Euclidean geometry. Hilbert's quintessential set of axioms set the standard for work in Euclidean geometry and still influences teaching and research in geometry today. His grouping of axioms established the core concepts for the needed axioms of Eudlidean geometry. His **incidence** axioms described how objects connect to each other. His **betweeness** axioms injected the properties of the real line that need to be true for all lines in the geometry, for example, that for distinct points $A$, $B$ and $C$, exacgtly one of the following must be true:\n",
    "\n",
    "  + $A$ is between $B$ and $C$,\n",
    "  + $B$ is between $A$ and $C$, or\n",
    "  + $C$ is between $A$ and $B$.\n",
    "  \n",
    "Hilbert's **congruence** axioms established congruence as an equivalence relation and allowed segments and angles of specific distance or measure to be constructed."
   ]
  },
  {
   "cell_type": "markdown",
   "metadata": {},
   "source": [
    "Birkhoff created an independent set of only four axioms which, in fact, produce all of Euclidean geometry. Birkhoff, however, included the algebraic properties of real numbers implicitly within his axioms. Like Hilbert, Birkhoff also viewed objects within the geometry as sets or collections of points. Both Hilbert and Birkhoff specifically include the basics of sets theory as part of their axiomatic system."
   ]
  },
  {
   "cell_type": "markdown",
   "metadata": {},
   "source": [
    "The SMSG axioms are typically used for geometry in K-12 classrooms. They are not independent, which mathematicians consider a flaw. Mathematics educators, especially prior to college, prefer to use them because they avoid tedious discussions about the completeness and continuity of geometric lines. The SMSG axioms includes the Ruler Postulate which brings all the properties of the real number line into the gemetry. Euclidean lines do, in fact, possess the algebraic structure of the real number line, but these ideas -- especially continuity and completeness -- must be proven in minimalist, independent axiomatic systems which can be quite tedious. The SMSG create a forward staging area for students of geometry with enough power to begin meaningful proofs right away.\n",
    "\n",
    "While not stated explicitly in the reference I could find, the SMSG (like Hilbert and Birkhoff) assume that geometric objects are sets, and thus the basics of set theory are included in the system."
   ]
  },
  {
   "cell_type": "markdown",
   "id": "liquid-superintendent",
   "metadata": {},
   "source": [
    "\n",
    "```{toctree}\n",
    ":hidden:\n",
    ":titlesonly:\n",
    "\n",
    "\n",
    "A1\n",
    "A2\n",
    "A3\n",
    "A4\n",
    "```\n"
   ]
  }
 ],
 "metadata": {
  "kernelspec": {
   "display_name": "Python 3",
   "language": "python",
   "name": "python3"
  },
  "language_info": {
   "codemirror_mode": {
    "name": "ipython",
    "version": 3
   },
   "file_extension": ".py",
   "mimetype": "text/x-python",
   "name": "python",
   "nbconvert_exporter": "python",
   "pygments_lexer": "ipython3",
   "version": "3.8.5"
  }
 },
 "nbformat": 4,
 "nbformat_minor": 4
}