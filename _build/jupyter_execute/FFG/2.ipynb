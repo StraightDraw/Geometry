{
 "cells": [
  {
   "cell_type": "markdown",
   "metadata": {},
   "source": [
    "## 1.2 The Five Point Geometry"
   ]
  },
  {
   "cell_type": "markdown",
   "metadata": {},
   "source": [
    "The axioms below describe the *Five Point Geometry* together with the undefined terms (point, line, on). Please note that Axioms (ii) and (iii) of the Five Point Geometry are identical to the Four Point Geometry. Axiom (i) only changes from four points to five. We will use the same defined terms as above. For clarity, here's the axiom set:\n",
    "\n",
    "> &nbsp;&nbsp; i.   There exist exactly five points.\n",
    ">\n",
    "> &nbsp; ii.  Any two distinct points have exactly one line on both of them.\n",
    ">\n",
    "> iii. Each line is on exactly two points."
   ]
  },
  {
   "cell_type": "markdown",
   "metadata": {},
   "source": [
    "**Theorems.**\n",
    "\n",
    "1. How many distinct lines are in the Five Point Geometry? Prove your conjecture.\n",
    "2. Prove or disprove: There exists a set of **two** lines in the Five Point Geometry that contain all of the points in the geometry. If you disprove this statement, change the word in bold so that the theorem is true, and prove the new theorem.\n",
    "\n",
    "We will return to Five Point Geometry later when we discuss *affine* geometries. The next two finite geometries are iconic: Fano's Geometry and Young's Geometry."
   ]
  }
 ],
 "metadata": {
  "kernelspec": {
   "display_name": "Python 3",
   "language": "python",
   "name": "python3"
  },
  "language_info": {
   "codemirror_mode": {
    "name": "ipython",
    "version": 3
   },
   "file_extension": ".py",
   "mimetype": "text/x-python",
   "name": "python",
   "nbconvert_exporter": "python",
   "pygments_lexer": "ipython3",
   "version": "3.8.5"
  }
 },
 "nbformat": 4,
 "nbformat_minor": 4
}