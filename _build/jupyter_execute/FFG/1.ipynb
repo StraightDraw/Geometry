{
 "cells": [
  {
   "cell_type": "markdown",
   "metadata": {},
   "source": [
    "## 1.1 Finite Geometries"
   ]
  },
  {
   "cell_type": "markdown",
   "metadata": {},
   "source": [
    "Finite geometries are the most primitive axiomatic systems with a finite set of points and lines. The geometric ideas we meet studying finite geometry are robust and apply to more sophisticated geometries. The Incidence Axioms (see below) govern the relationship between points and lines and provide the building blocks necessary for ideas like *intersect* and *parallel*. \n",
    "\n",
    "<span style=\"color:red\">**Important**.</span> All finite geometries in this course will have the same three and the same defined terms *intersect*, *parallel* and *concurrent* the definitions for which are given below.\n",
    "\n",
    "* Two lines on the same point are said to *intersect* at that point and are called *intersecting lines*.\n",
    "* Two lines that do not intersect are called *parallel* lines.\n",
    "* Three or more lines that intersect at the same point are called *concurrent*.\n",
    "\n",
    "#### Four Point Geometry\n",
    "The axioms below together with the undefined terms describe the Four Point Geometry.\n",
    "\n",
    ">&nbsp;&nbsp;  i. There exist exactly four points.\n",
    ">\n",
    ">&nbsp; ii. Any two distinct points have exactly one line on both of them.\n",
    ">\n",
    ">iii. Each line is on exactly two points.\n",
    "\n",
    "We would normally say two lines intersect if they contain the same point. However, we have not defined what *contain* means. We use the undefined term \"on\" to refer both to a line being on some points and to points being on a line."
   ]
  },
  {
   "cell_type": "markdown",
   "metadata": {},
   "source": [
    "**Theorems.**\n",
    "\n",
    "1. In the Four Point Geometry, if two lines intersect, they have exactly one point in common.\n",
    "2. The Four Point Geometry has exactly six lines.\n",
    "3. In the Four Point Geometry, each point has exactly three lines on it.\n",
    "4. In the Four Point Geometry, each line has at least one line that is parallel to it.\n",
    "5. Prove that there exists a set of two lines in the Four Point Geometry that contain all of the points in the geometry.\n",
    "\n",
    "The Four Point Geometry can be extended to five, six or more points by simply changing the first axiom. We will explore the Five Point Geometry in the next section, but some of the properties will be different.\n"
   ]
  }
 ],
 "metadata": {
  "kernelspec": {
   "display_name": "Python 3",
   "language": "python",
   "name": "python3"
  },
  "language_info": {
   "codemirror_mode": {
    "name": "ipython",
    "version": 3
   },
   "file_extension": ".py",
   "mimetype": "text/x-python",
   "name": "python",
   "nbconvert_exporter": "python",
   "pygments_lexer": "ipython3",
   "version": "3.8.5"
  }
 },
 "nbformat": 4,
 "nbformat_minor": 4
}