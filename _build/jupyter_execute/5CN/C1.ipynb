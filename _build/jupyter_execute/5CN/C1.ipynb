{
 "cells": [
  {
   "cell_type": "markdown",
   "metadata": {},
   "source": [
    "# C.1 Pathways for Constructions"
   ]
  },
  {
   "cell_type": "markdown",
   "metadata": {},
   "source": [
    "The Greeks developed compass and straightedge constructions along two main pathways.\n",
    "\n",
    "1. Determining the value of $\\pi$.\n",
    "2. Calculating quadratures."
   ]
  },
  {
   "cell_type": "markdown",
   "metadata": {},
   "source": [
    "## Estimating $\\pi$\n",
    "\n",
    "For two thousand years, the best estimates of $\\pi$ followed the same basic plan: use regular polygons to inscribe and circumscribe the unit circle. These upper and lower bounds converge as the number of sides in the regular n-gons increases. Today, we would think of it as the limit as $n\\rightarrow \\infty$, and Archimedes accomplished these types of calculations using what he termed a method of exhuastion.\n",
    "\n",
    "<iframe width=\"560\" height=\"315\" src=\"https://www.youtube.com/embed/gMlf1ELvRzc\" title=\"YouTube video player\" frameborder=\"0\" allow=\"accelerometer; autoplay; clipboard-write; encrypted-media; gyroscope; picture-in-picture\" allowfullscreen></iframe>\n",
    "\n",
    "Regular polygons were, for this reason, highly valued constructions, and the Greeks quickly figured out which were possible. Yet they lacked the level of rigor to prove conclusively that certain constructions were impossible.\n",
    "\n",
    "<iframe width=\"560\" height=\"315\" src=\"https://www.youtube.com/embed/LBgIWQcC6lM\" title=\"YouTube video player\" frameborder=\"0\" allow=\"accelerometer; autoplay; clipboard-write; encrypted-media; gyroscope; picture-in-picture\" allowfullscreen></iframe>\n",
    "\n",
    "### Constructions\n",
    "\n",
    "1. Construct an equilateral triangle\n",
    "2. Construct a square\n",
    "3. Construct a regualr pentagon and a pentagram\n",
    "4. Construct a regular hexagon\n",
    "5. Construct an ocatagon\n",
    "6. Construct other regular polygons\n",
    "7. Determine what regular polygons are not possible"
   ]
  },
  {
   "cell_type": "markdown",
   "metadata": {},
   "source": [
    "## Quadrature\n",
    "\n",
    "For the Greeks, quadrature meant constructing a square with equal area to a given figure. Since the beginning of the Enlightenment, quadrature has typically meant finding the area of a figure. While the Greeks never squared the circle -- that's impossible -- they did manage to determine the quadrature of many impressive figures. \n",
    "\n",
    "### Quadrature of the Lune\n",
    "The godfather of quadrature was Hippocrates who worked on the quadrature of the lune, one of the most impressive mathematical accomplishments prior to the invention of calculus.\n",
    "\n",
    "<iframe width=\"560\" height=\"315\" src=\"https://www.youtube.com/embed/n_FsAwvxBI8\" title=\"YouTube video player\" frameborder=\"0\" allow=\"accelerometer; autoplay; clipboard-write; encrypted-media; gyroscope; picture-in-picture\" allowfullscreen></iframe>\n",
    "\n",
    "\n",
    "### Quadratic Equations\n",
    "\n",
    "The Greeks solved quadratic equations using compass and straightedge quadrature. In fact, they were able to solve all quadratic equations of the form:\n",
    "\n",
    "$$\\begin{align}x^2 + bx + c = 0\\end{align}$$\n",
    "\n",
    "Of course, this means they solved all quadratics with real roots, since we can take a general quadratic equation\n",
    "\n",
    "$$x^2 + bx + c = 0$$\n",
    "\n",
    "and divide through by $a$. This yields equation (1).\n",
    "\n",
    "The Greek idea of area was based on quadrature. They didn't think of area as rectangular, as length times width like we do. They thought of area as squares. They converted, when possible, other plane figures into squares with equivalent areas. This process is likely the foundation for why we refer to \n",
    "\n",
    "$$x^2$$\n",
    "\n",
    "as $x$-squared, referring to a time when it would have meant to construct a square the side lengths of which are $x$ units.\n",
    "\n",
    "### Theorems\n",
    "\n",
    "Perform the following compass and straighedge constructions, and prove they have the require properties.\n",
    "\n",
    "1. Square a triangle\n",
    "2. Square a rectangle\n",
    "3. Square a parallelogram\n",
    "4. Square a trapezoid\n",
    "5. Square a rhombus\n",
    "6. Solve quadratic equations\n",
    "7. Find the quadrature of a lune (Hippocrates)"
   ]
  }
 ],
 "metadata": {
  "kernelspec": {
   "display_name": "Python 3",
   "language": "python",
   "name": "python3"
  },
  "language_info": {
   "codemirror_mode": {
    "name": "ipython",
    "version": 3
   },
   "file_extension": ".py",
   "mimetype": "text/x-python",
   "name": "python",
   "nbconvert_exporter": "python",
   "pygments_lexer": "ipython3",
   "version": "3.7.6"
  }
 },
 "nbformat": 4,
 "nbformat_minor": 4
}