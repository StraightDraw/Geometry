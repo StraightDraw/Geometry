{
 "cells": [
  {
   "cell_type": "markdown",
   "metadata": {},
   "source": [
    "# C.1 Construction Theorems"
   ]
  },
  {
   "cell_type": "markdown",
   "metadata": {},
   "source": [
    "Compass and straightedge constructions form an important part of the Greek's approach to geometry and proofs."
   ]
  },
  {
   "cell_type": "markdown",
   "metadata": {},
   "source": [
    "## Theorems\n",
    "\n",
    "1. Radii of congruent circles are congruent.\n",
    "2. Consider two circles $p$ and $q$ with centers $P$ and $Q$ respectively. If $p$ and $q$ intersect in exactly two points, say, $R$ and $S$, then quadrilateral $PRQS$ is a kite. If $p\\cong q$, $PQRS$ is a rhombus. If $p\\in Q$ and $q\\in P$, $\\triangle{PRQ}$ is equilateral, as is $\\triangle{PSQ}$."
   ]
  },
  {
   "cell_type": "markdown",
   "metadata": {},
   "source": [
    "## Constructions\n",
    "\n",
    "We can construct the following compass and straightedge and, using the first and second construction theorems, prove the constructions have the required properties.\n",
    "\n",
    "1. Construct a segment of given length. \n",
    "2. Find the midpoint of given segment.\n",
    "3. Construct the perpendicular bisector of a segement.\n",
    "4. Construct the bisector of an angle. \n",
    "5. Construct a right triangle.\n",
    "6. Construct an isoceles triangle.\n",
    "7. Construct a 30-60-90 right triangle.\n",
    "8. Construct a 45-45-90 right triangle.\n",
    "9. Construct and equilateral triange.\n",
    "10. Construct a square."
   ]
  }
 ],
 "metadata": {
  "kernelspec": {
   "display_name": "Python 3",
   "language": "python",
   "name": "python3"
  },
  "language_info": {
   "codemirror_mode": {
    "name": "ipython",
    "version": 3
   },
   "file_extension": ".py",
   "mimetype": "text/x-python",
   "name": "python",
   "nbconvert_exporter": "python",
   "pygments_lexer": "ipython3",
   "version": "3.7.6"
  }
 },
 "nbformat": 4,
 "nbformat_minor": 4
}