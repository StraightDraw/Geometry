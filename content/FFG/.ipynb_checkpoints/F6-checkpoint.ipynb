{
 "cells": [
  {
   "cell_type": "markdown",
   "metadata": {},
   "source": [
    "# 1.6  Searching for a Parallel Posutlate"
   ]
  },
  {
   "cell_type": "markdown",
   "metadata": {},
   "source": [
    "Euclid's *Elements* introduced both axiomatics and formal geometry to the world. Though many of the results were probably known before Euclid, his book survived from antiquity and for more than two thousand years served as the main textbook for students of geometry. \n",
    "\n",
    "````{margin}\n",
    "![Euclid](https://cdn.britannica.com/s:250x250,c:crop/46/8446-050-BC92B998/Euclid-woodcut-1584.jpg)\n",
    "Euclid\n",
    "````"
   ]
  },
  {
   "cell_type": "markdown",
   "metadata": {},
   "source": [
    "The 19th century produced a revolution in formal logic and the study of axiomatics. One result was that it became clear that Euclid's system was both incomplete and, insofar as it went, failed to meet the modern standards of rigor. German mathematician [David Hilbert](https://en.wikipedia.org/wiki/David_Hilbert) attempted to rectify these issues and published a new system of axioms in his book *Grundlagen der Geometrie* in 1898.\n",
    "\n",
    "Hilbert's set of axioms was independent and complete. His formulation also split the axioms into differents sets: *incidence* axioms, *betweeness* axioms and *congruence* axioms. His idea is obvious: he knew the properties and theorems needed to make Euclidean Geometry work \"correctly,\" and he developed structures within each set of axioms to force those properties into the system. \n",
    "\n",
    "Another important set of independent and complete Euclidean axioms was provided by Birkhoff. Where Hilbert had more than a dozen axioms, Birkhoff's elegant approach had only four axioms. The final important set of Eculidean axioms we will work with is a dependent system but was designed for use in secondary mathematics textbooks (SMSG). More axioms are given than are needed, but students aren't stuck proving theorems like \"two lines on the same two points are the same line.\" The additional axioms move the starting point into interesting and important ideas for school mathematics.\n",
    "\n",
    "The study of Euclidean Geometry has to focus on the Fifth Postulate, Euclid's Parallel Postulate, which has been controversial since antiquity. Euclid himself appears to have worried about it. Greek geometers argued it wasn't an axiom, it was a theorem. The idea is simple: *If two lines are parallel, they never meet*."
   ]
  },
  {
   "cell_type": "markdown",
   "metadata": {},
   "source": [
    "````{epigraph}\n",
    "If a straight line crossing two straight lines makes the interior angles on the same side less than two right angles, the two straight lines, if extended indefinitely, meet on that side on which are the angles less than the two right angles.\n",
    "\n",
    "--Euclid's Fifth Postulate\n",
    "`````\n",
    "\n",
    "<iframe scrolling=\"no\" title=\"Handshakes8\" src=\"https://www.geogebra.org/material/iframe/id/jns8hmzd/\n",
    "width/1480/\n",
    "height/540/\n",
    "border/888888/\n",
    "sfsb/true/\n",
    "smb/false/\n",
    "stb/false/\n",
    "stbh/false/\n",
    "ai/false/\n",
    "asb/false/\n",
    "sri/false/\n",
    "rc/false/\n",
    "ld/false/\n",
    "sdz/true/\n",
    "ctl/false\"  width=\"100%\" height=\"100%\" style=\"border:1px;\" allowfullscreen; style=\"display:block\" > > </iframe>\n",
    "\n",
    "Attempts to prove it from the other axioms failed. Attempts to explain why included the idea that Euclid hadn't stated his postulate properly. The various restatements and proof attempts actually led to many important discoveries and, eventually, to non-Euclidean geometry.\n",
    "\n",
    "The most famous restatment is the **Playfair Postulate**. \n",
    "\n",
    "````{epigraph}\n",
    "In a plane, given a line and a point not on it, at most one line parallel to the given line can be drawn through the point.\n",
    "\n",
    "-- [John Playfair](https://www.maa.org/press/periodicals/convergence/teaching-mathematics-with-ephemera-who-was-john-playfair)\n",
    "````\n",
    "\n",
    "This is the modern idea of parallel. The *at most* turns out to be equivalent to *exactly one* because, using the other Euclidean axioms, we can prove that there is *at least* one.\n",
    "\n",
    "Two possible ways exist to change the parallel condition, and both lead to non-Euclidean geometries.\n",
    "\n",
    "* In a plane, given a line and a point not on it, ***more than one line*** parallel to the given line can be drawn through the point.\n",
    "* In a plane, given a line and a point not on it, ***no line*** parallel to the given line can be drawn through the point."
   ]
  },
  {
   "cell_type": "markdown",
   "metadata": {},
   "source": [
    "On our way to Euclidean Geometry, we can ask the following question: \"What theorems can be proven without using any parallel axiom at all?\" A set of Eudlidean axioms without a parallel axiom is called  **neutral geometry** or ([absolute geometry](https://en.wikipedia.org/wiki/Absolute_geometry)).\n",
    "\n",
    "The way forward is clear: we will start with Hilbert's version of Euclidean Geometry, thinking about each group of axioms. We will postpone any parallel postulate as long as possible and establish key results in *neutral geometry*. These results will be true regardless of the choice of parallel postulate we use. We will then use Playfair's Postulate (or a reasonable atlernative) to investigate those results which are only true in Euclidean Geometry before moving on to study non-Euclidean Geometry. \n",
    "\n",
    "The {doc}`Axioms</AX/A0>` chapter  gives four different formulations of Euclidean geometry, starting with Euclid's set of postulates. The axiomatic systems of Hilbert and Birkhoff follow. Both are rigorous in the modern sense and, as such, are complete, independent and have as a model the Euclidean plane. Finally, we have the SMSG axiom set which is rigorous, suitable for high school students, but which happens to be dependent.\n",
    "\n",
    "## Incidence Geometries\n",
    "Hilbert's formulation of Euclid is especially helpful. While we will use the SMSG axiom set for neutral and Euclidean geometry, we'll consider some of Hilbert's axioms for the rest of this section. His first set of axioms describe *incidence* or connnection. We need to know when a line contains a point, or when two lines intersect at a given point. Incidence geometries can be either finite or infinite.\n",
    "\n",
    "````{admonition} Incidence Axioms\n",
    ":class: note\n",
    "1. For every pair of distinct points $A$ and $B$ there is a unique line $l$ containing $A$ and $B$.\n",
    "2. Every line contains at least two points.\n",
    "3. There are at least three points that do not lie on the same line.\n",
    "````\n",
    "\n",
    "Note that all the finite geometries discussed in this chapter are all incidence geometries, and the definition of parallel and concurrent will be identical to what we used for our finite geometries. The parallel condition separates finites geometries into two classes.\n",
    "\n",
    "Affine Geometry\n",
    ": An incidence geometry that exhibits the Euclidean parallel property.\n",
    "\n",
    "Projective Geometry\n",
    ": An incidence geometry that has no parallel lines and in which each line has at least three points.\n",
    "\n",
    "Projective geometries are exactly what they sound like: the projection of a geometry onto a plane or hyperplane. Think about a globe projected onto a map of the world where the geometry of a sphere is projected onto a plane [^1]. We will probably not encounter them much in this course. \n",
    "\n",
    "In any incidence geometry, finite or otherwise, the following three statements hold."
   ]
  },
  {
   "cell_type": "markdown",
   "metadata": {},
   "source": [
    "## Theorems for Incidence Geometry\n",
    "1. If two distinct lines intersect, then the intersection is exactly one point.\n",
    "2. For each point there exist at least two lines containing it. \n",
    "3. There exist three lines that do not share a common point."
   ]
  },
  {
   "cell_type": "markdown",
   "metadata": {},
   "source": [
    "### Possible Parallel Postulates\n",
    "\n",
    "**Parallel Possibilities.** Given an arbitrary line $l$ and any point $P$ not on $l$, exactly three possibilities exist:"
   ]
  },
  {
   "cell_type": "markdown",
   "metadata": {},
   "source": [
    "````{panels}\n",
    "**No Parallels**\n",
    "^^^\n",
    "There exist *no lines* through $P$ parallel to $l$.\n",
    "---\n",
    "\n",
    "**Unique Parallel**\n",
    "^^^\n",
    "There exists exactly *one line* through $P$ parallel to $l$.\n",
    "---\n",
    "\n",
    "**Multiple Parallels**\n",
    "^^^\n",
    "There exist *many lines* through $P$ parallel to $l$.\n",
    "````"
   ]
  },
  {
   "cell_type": "markdown",
   "metadata": {},
   "source": [
    "A unique parallel is the Euclidean or *affine* parallel condition, and any geometry whose axioms imply an equivalent statement is said to have the Euclidean parallel property. If we chose either of the other options, we will have a non-Euclidean geometry. Our various finite geometries provide excellent examples of incidence geometries which have various parallel conditions.\n",
    "\n",
    "You should be able to prove the Four Point, Five Point, Fano's and Young's geometries are all incidence geometries, and be able to determine and prove what type of parallel properties each one has, either affine or projective."
   ]
  },
  {
   "cell_type": "markdown",
   "metadata": {},
   "source": [
    "[^1]: The earth isn't spherical, but globes are. It's an approximation."
   ]
  }
 ],
 "metadata": {
  "kernelspec": {
   "display_name": "Python 3",
   "language": "python",
   "name": "python3"
  },
  "language_info": {
   "codemirror_mode": {
    "name": "ipython",
    "version": 3
   },
   "file_extension": ".py",
   "mimetype": "text/x-python",
   "name": "python",
   "nbconvert_exporter": "python",
   "pygments_lexer": "ipython3",
   "version": "3.8.5"
  }
 },
 "nbformat": 4,
 "nbformat_minor": 4
}
