{
 "cells": [
  {
   "cell_type": "markdown",
   "metadata": {},
   "source": [
    "# Euclidean Geometry"
   ]
  },
  {
   "cell_type": "markdown",
   "metadata": {},
   "source": [
    "Along with Bolyai, we have completed our trek through the controversies of parallelism. Euclid's 5th, indeed, is an axiom. We can now launch a new quest to fully establish Euclidean geometry knowing all neutral geometry theorems true. In additon, we finally get to use a parallel postulate.\n",
    "\n",
    "````{admonition} Playfair's Postulate\n",
    "Through a given external point there is at most one line parallel to a given line (SMSG Axiom 16).\n",
    "````\n",
    "\n",
    "The \"at most\" wording in the parallel postulate rules out hyperbolic geometry where multiple lines through an external point may be parallel to a given line. "
   ]
  },
  {
   "cell_type": "markdown",
   "metadata": {},
   "source": [
    "## Pathways from the Parallel Postulate\n",
    "\n",
    "Establishing the full power of the Alternate Interior Angles theorem will unlock several important proofs. In neutral geometry, we were only able to prove one direction.\n",
    "\n",
    "````{admonition} Alternate Interior Angles Theorem (AIA)\n",
    "If two lines are intersected by a transversal such that a pair of alternate interior angles is congruent, then the lines are parallel.\n",
    "````\n",
    "\n",
    "With Axiom 16 ruling out multiple parallels through an external point, we can prove the converse.\n",
    "\n",
    "````{admonition} Converse of the Alternate Interior Angles Theorem (CAIA)\n",
    "If two parallel lines are intersected by a transversal, then the alternate interior angles formed are congruent.\n",
    "````\n",
    "\n",
    "With CAIA as a tool in our kit, we can immediately show that the angle sums of triangles must be $180^\\circ$ and that rectangles exist. The parallel postulate has straightened the curves of the geometry."
   ]
  },
  {
   "cell_type": "markdown",
   "metadata": {},
   "source": [
    "## Neutral vs. Euclidean Geometry\n",
    "\n",
    "The following comparisons show the gap -- often just a sliver -- between neutral geometry theorems and important results in Euclidean geometry.\n",
    "\n",
    "````{panels}\n",
    ":column: col-6\n",
    ":card: border-2\n",
    "Alternate Interior Angle Theorem\n",
    "^^^\n",
    "If two lines are intersected by a transversal such that a pair of alternate interior angles is congruent, then the lines are parallel.\n",
    "---\n",
    "Converse of the Alternate Interior Angle Theorem\n",
    "^^^\n",
    "If two parallel lines are intersected by a transversal, then the alternate interior angles formed are congruent.\n",
    "````\n",
    "\n",
    "````{panels}\n",
    ":column: col-6\n",
    ":card: border-2\n",
    "Perpendicular Uniqueness\n",
    "^^^\n",
    "Given a line $l$ and any point $P$ not on $l$, there exists a unique line $m$ such that $P\\in m$ and $m\\perp l$.\n",
    "---\n",
    "Parallel Uniqueness\n",
    "^^^\n",
    "Given a line $l$ and any point $P$ not on $l$, there exists a unique line $m$ such that $P\\in m$ and $m\\parallel l$.\n",
    "````\n",
    "\n",
    "````{panels}\n",
    ":column: col-6\n",
    ":card: border-2\n",
    "Corollary to AIA\n",
    "^^^\n",
    "Two lines perpendicular to the same line are parallel.\n",
    "---\n",
    "Corollary to CAIA\n",
    "^^^\n",
    "If a line is perpendicular to one of two parallel lines, then it is perpedicular to the other.\n",
    "````\n",
    "\n",
    "````{panels}\n",
    ":column: col-6\n",
    ":card: border-2\n",
    "Saccheri-Legendre\n",
    "^^^\n",
    "The angle sum of a triangle is less than or equal to $180^\\circ$.\n",
    "---\n",
    "Corollary to CAIA\n",
    "^^^\n",
    "The angle sum of a triangle is $180^\\circ$.\n",
    "````"
   ]
  }
 ],
 "metadata": {
  "kernelspec": {
   "display_name": "Python 3",
   "language": "python",
   "name": "python3"
  },
  "language_info": {
   "codemirror_mode": {
    "name": "ipython",
    "version": 3
   },
   "file_extension": ".py",
   "mimetype": "text/x-python",
   "name": "python",
   "nbconvert_exporter": "python",
   "pygments_lexer": "ipython3",
   "version": "3.7.6"
  }
 },
 "nbformat": 4,
 "nbformat_minor": 4
}
