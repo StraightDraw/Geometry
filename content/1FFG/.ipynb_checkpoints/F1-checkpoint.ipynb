{
 "cells": [
  {
   "cell_type": "markdown",
   "metadata": {},
   "source": [
    "## 1.1 Finite Geometries"
   ]
  },
  {
   "cell_type": "markdown",
   "metadata": {},
   "source": [
    "Finite geometries are the most primitive axiomatic systems with a finite set of points and lines. The geometric ideas we meet studying finite geometry are robust and apply to more sophisticated geometries. Each of the finite geometries we study will be an incidence geometry, a concept explained in depth in {doc}`Section 1.6<F6>`.\n",
    "\n",
    "The undefined terms for all our finite geometries will be *point*, *line* and *on*, and we use the same three defined terms, as well.\n",
    "\n",
    "Intersect\n",
    ": Two lines on the same point are said to *intersect* at that point and are called *intersecting lines*.\n",
    "\n",
    "Parallel\n",
    ": Two lines that do not intersect are called *parallel* lines.\n",
    "\n",
    "Concurrent\n",
    ": Three or more lines that intersect at the same point are called *concurrent*.\n",
    "\n",
    "\n",
    "````{tip}\n",
    "We used the exact definitions above that will appear, not only in sections about finite geometry, but throughout the entire book.\n",
    "````\n"
   ]
  }
 ],
 "metadata": {
  "kernelspec": {
   "display_name": "Python 3",
   "language": "python",
   "name": "python3"
  },
  "language_info": {
   "codemirror_mode": {
    "name": "ipython",
    "version": 3
   },
   "file_extension": ".py",
   "mimetype": "text/x-python",
   "name": "python",
   "nbconvert_exporter": "python",
   "pygments_lexer": "ipython3",
   "version": "3.8.5"
  }
 },
 "nbformat": 4,
 "nbformat_minor": 4
}
