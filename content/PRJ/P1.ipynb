{
 "cells": [
  {
   "cell_type": "markdown",
   "metadata": {},
   "source": [
    "# The Gnomon"
   ]
  },
  {
   "cell_type": "markdown",
   "metadata": {},
   "source": [
    "Greek mathematicians were fascinated with the idea of similar figures and patterns. Heron of Alexandria offered the following definition of *gnomons*.\n",
    "\n",
    "Gnomon\n",
    ": That which, when added to anything, either number or figure, makes the whole similar to that to which it is added.  "
   ]
  },
  {
   "cell_type": "markdown",
   "metadata": {},
   "source": [
    "## Triangular numbers"
   ]
  },
  {
   "cell_type": "markdown",
   "metadata": {},
   "source": [
    "The Pythagoreans had worked out most of the details regarding triangular numbers and square numbers. They were interested in the shape of certain numbers. The triangular numbers are shown below."
   ]
  },
  {
   "cell_type": "markdown",
   "metadata": {},
   "source": [
    "![Paralllel lines in hyperbolic geometry](https://plus.maths.org/content/sites/plus.maths.org/files/articles/2020/triangular/triangular.png)\n"
   ]
  },
  {
   "cell_type": "markdown",
   "metadata": {},
   "source": [
    "The 3rd and 4th triangular numbers are 6 and 10. Their difference 4 is the gnomon, and we can make a sequence with them. For the triangular numbers, the gnomons are the natural numbers\n",
    "\n",
    "$$1,2,3,4,\\cdots$$\n",
    "\n",
    "and the partial sums of the gnomons from 1 to 7, for example, will produce the 7th triangular number."
   ]
  },
  {
   "cell_type": "markdown",
   "metadata": {},
   "source": [
    "There are square numbers, pentagonal numbers. In fact, there are polygonal numbers of all degrees, and the Pythagoreans investigated many of the low-degree polynomias. They developed [relationships between them](https://plus.maths.org/content/maths-minute-triangular-numbers) including the sum of the first $n$ natural numbers\n",
    "\n",
    "$$1+2+3+\\cdots + n = \\frac{1}{2}n(n+1)$$\n",
    "\n",
    "which is often referred to today as the Gaussian formula. The Pythagoreans probably worked out many of the relationships commonly known today about these relationships.\n",
    "\n",
    "1. Any oblong number is the sum of two equal triangular numbers.\n",
    "2. **Theorem of Theon.** Any square number is the sum of two triangular numbers.\n",
    "3. Eight times any triangular number plus 1 is a square number."
   ]
  },
  {
   "cell_type": "markdown",
   "metadata": {},
   "source": [
    "Project ideas include studying one type of polygonal numbers exclusively, or studying relationships among two or more types. The series created by the gnomons are a common thread in the theorems the Greek developed, and any project should include some of the \"dots\" drawings the Greeks used to prove them.\n",
    "\n",
    "\n",
    "\n",
    "\n"
   ]
  },
  {
   "cell_type": "markdown",
   "metadata": {},
   "source": [
    "## Geometric and Harmonic Means"
   ]
  },
  {
   "cell_type": "markdown",
   "metadata": {},
   "source": [
    "The Greeks often thought of a mean as completing a pattern, for example the geometric mean where\n",
    "\n",
    "$$\\frac{a}{x} = \\frac{x}{b}$$\n",
    "\n",
    "is solved by finding a value $x$ that makes the relationship true. Once found, $x$ is between $a$ and $b$ and, if $a<b$, then $\\dots,a,r,b,\\dots$ are consecutive terms of a geometric sequence. The above equation has the solution $x = \\sqrt{ab}$ so that\n",
    "\n",
    "$$\\frac{a}{\\sqrt{ab}} = \\frac{\\sqrt{ab}}{b}$$\n",
    "\n",
    "A simple example shows the relationship:\n",
    "\n",
    "$$\\frac{2}{\\sqrt{2(8)}} = \\frac{\\sqrt{2(8)}}{8} \\implies \\frac{2}{4} = \\frac{4}{8}$$\n",
    "\n",
    "The common ratio of the geometric sequence can be found by\n",
    "\n",
    "$$ar = \\sqrt{ab} \\implies r = \\frac{\\sqrt{ab}}{a} = \\sqrt{\\frac{b}{a}}$$\n"
   ]
  },
  {
   "cell_type": "markdown",
   "metadata": {},
   "source": [
    "The geometric mean has interesting and wide ranging applications including [analyzing investment portfolios](https://www.investopedia.com/terms/g/geometricmean.asp). The Greeks developed more than a dozen \"means,\" several of which are still in use today, including the harmonic mean."
   ]
  },
  {
   "cell_type": "markdown",
   "metadata": {},
   "source": [
    "## Project Ideas\n",
    "\n",
    "1. Triangular numbers\n",
    "2. Rectangular numbers\n",
    "3. Pentagonal numbers\n",
    "4. Polygonal numbers such as hexagonal, octagonal, etc.\n",
    "5. Relationships between types of polygonal numbers\n",
    "6. Geometric mean\n",
    "7. Harmonic mean\n",
    "8. The Greek idea of means\n",
    "9. Gnomons and related ideas (any of these could be a project, and other project ideas related to gnomons exist)\n",
    "    1. Spirals\n",
    "    2. Golden Ratio\n",
    "    3. Golden Rectangle\n"
   ]
  }
 ],
 "metadata": {
  "kernelspec": {
   "display_name": "Python 3",
   "language": "python",
   "name": "python3"
  },
  "language_info": {
   "codemirror_mode": {
    "name": "ipython",
    "version": 3
   },
   "file_extension": ".py",
   "mimetype": "text/x-python",
   "name": "python",
   "nbconvert_exporter": "python",
   "pygments_lexer": "ipython3",
   "version": "3.7.6"
  }
 },
 "nbformat": 4,
 "nbformat_minor": 4
}
