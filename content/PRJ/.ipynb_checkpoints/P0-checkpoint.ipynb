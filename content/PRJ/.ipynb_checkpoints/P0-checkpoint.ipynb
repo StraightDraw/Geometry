{
 "cells": [
  {
   "cell_type": "markdown",
   "metadata": {},
   "source": [
    "# Geometry Projects\n",
    "\n",
    "I have created some materials in this section to help you think about and determine a good geometry project. Projects will include at least 5 proofs along with the context of the problem or puzzle geometers were attempting to solve. Context will include both the history and importance of the problem and the main geometer or geometers who worked on it. For context, think about explaining why the problem was important. Who was interested in solving it? What did it lead to? What period of history was it solved during? Did the same result get proven by a different mathematician or even a different culture on a different continent? How would we do the proof today? How did they prove the key results originally? Which important mathematicians worked on it without solving it? What other important work was it related to? \n",
    "\n",
    "Your project will include at least 5 proofs and will generally be between 5 and 10 pages long depending on the use of figures. A proof should include at least 5 meaningful (justified) steps. Longer proofs with 15 or more justified steps may count as two proofs. Be aware that you can break up a proof into lemmas, and each lemma with at least steps would count as its own theorem (see the Saccheri-Legendre theorem). If you find your area of interest only has two or three legitimate proofs, combine it with a related mini-project so that you do get to explore what interests you.\n",
    "\n",
    "The proofs presented in the paper do not have to be your original works, but they should not be direct copies of someone else's proof. Create a dynamic Geogebra proof and link to it in your paper. However, your paper should include the full proof and a flat figure showing the construction along with correctly labeled objects. The figures used to illustrate your proof in your paper can be screen grabs from your dynamic GeoGebra proof, but try to only include the figure. Hide any text that might overlap while getting the screen grab. Do not use exact copies of proofs. Make them your own. Set up your own figures with your own styling (be consistent throughout paper). Give class proofs meaning, where possible, reference the theorems or axioms from our online notes. Justify each statement in your proof. You are reporting these proofs, not inventing them, but prove that you understand them by constructing your own proof in your words and proof style."
   ]
  },
  {
   "cell_type": "markdown",
   "metadata": {},
   "source": [
    "## The Gnomon"
   ]
  },
  {
   "cell_type": "markdown",
   "metadata": {},
   "source": [
    "Greek mathematicians were fascinated with the idea of similar figures and patterns. Beginning with the Pythagoreans, the search for patterns was elevated to a science. The Pythagoreans predictably studied triangular numbers and extended this to a search for polygonal numbers with many results proven that we deal with in college level number theory courses.\n",
    "\n",
    "The Greeks also developed ideas about spirals, the Golden Ratio and Golden Rectangle, the geometric mean and harmonic mean."
   ]
  },
  {
   "cell_type": "markdown",
   "metadata": {},
   "source": [
    "## Quadrature"
   ]
  },
  {
   "cell_type": "markdown",
   "metadata": {},
   "source": [
    "The Greeks did not typically solve for areas using algebraic formulas, though they knew them. They constructed figures with equivalent areas. For them, quadrature meant constructing a square using only a compass and straightedge that had the same area as a given rectangle, triangle, parallelogram or other figure. These constructions are classics, and the Greek efforts at quadarature led to the most impressive mathematical exploits of antiquity."
   ]
  },
  {
   "cell_type": "markdown",
   "metadata": {},
   "source": [
    "## Regular Polygons"
   ]
  },
  {
   "cell_type": "markdown",
   "metadata": {},
   "source": [
    "The construction of regular polygons of all degrees is not possible, at least not using only a compass and straightedge and with only a finite number of steps. Still, even the ones that are possible are sometimes not particularly easy."
   ]
  },
  {
   "cell_type": "markdown",
   "metadata": {},
   "source": [
    "## Cut-the-Knot\n",
    "\n",
    "My favorite math website [cut-the-knot.org](https://www.cut-the-knot.org/) has literally hundreds of interesting constructions, puzzles, problems and intriguing solutions. For example, in classic cut-the-knot style, Alexander Bogomolny collected [122 proofs of the Pythagorean Theorem](http://www.cut-the-knot.org/pythagoras/index.shtml#) and remarked upon several of the most beautiful, intersting and important."
   ]
  },
  {
   "cell_type": "markdown",
   "metadata": {},
   "source": [
    "## Project Ideas\n",
    "\n",
    "I have included three pages describing good projects related to Greek geometry and a page about cut-the-knot and how to search its massive set of problems for an interesting project. Below are some general areas of geometry that would be of interest for larger projects (like a UNG mathematics major's senior project).\n",
    "\n",
    "1. Hyperbolic geometry (see Jonas Bolyai and Nikolai Lobachevsky)\n",
    "2. Projective geometry (see Girard Desargues, among others)\n",
    "3. Duals and the dual of a geometry\n",
    "4. Spherical or elliptical geometry\n",
    "5. The Euler line (see Leonhard Euler)\n",
    "6. Tessalations and/or wall paper patterns\n",
    "7. Icosian calculus (see William Rowan Hamilton)\n",
    "8. Regular polyhedra (see Theaetetus)\n",
    "9. Differential geometry\n",
    "\n",
    "One could also choose an important mathematician or geometer and describe that person's contribution to geometry highlighting one or two key results. I've chosen 30 geometers from a [huge list on Wikipedia](https://en.wikipedia.org/wiki/List_of_geometers) that I believe did enough pure geometry for a geometry project to be fashioned using just their works and contributions.\n",
    "\n",
    "1. Baudhayana (India)\n",
    "2. Mozi (China)\n",
    "2. Pythagorus\n",
    "3. Euclid\n",
    "4. Katyayana (India)\n",
    "5. Theaetetus\n",
    "6. Apollonius of Perga\n",
    "7. Archimedes\n",
    "8. Eratosthenes \n",
    "9. Pappus of Alexandria\n",
    "10. Hero of Alexandria\n",
    "11. Al-Abbās ibn Said al-Jawharī (Persia)\n",
    "12. Abu'l-Wáfa (Persia)\n",
    "13. Omar Khayyam (Persia)\n",
    "14. Girard Desargues\n",
    "15. René Descartes\n",
    "16. Pierre de Fermat\n",
    "17. Giovanni Ceva\n",
    "18. Giovanni Gerolamo Saccheri\n",
    "19. Leonhard Euler\n",
    "20. Johann Heinrich Lambert\n",
    "21. Jean-Victor Poncelet\n",
    "22. August Ferdinand Möbius\n",
    "23. Nikolai Ivanovich Lobachevsky \n",
    "24. Carl Frederick Gauss\n",
    "25. Janos Boyai\n",
    "26. William Rowan Hamilton\n",
    "27. Felix Klein\n",
    "28. Alicia Boole Stott\n",
    "29. Oswald Veblen\n",
    "30. Benoit Mandelbrot\n"
   ]
  }
 ],
 "metadata": {
  "kernelspec": {
   "display_name": "Python 3",
   "language": "python",
   "name": "python3"
  },
  "language_info": {
   "codemirror_mode": {
    "name": "ipython",
    "version": 3
   },
   "file_extension": ".py",
   "mimetype": "text/x-python",
   "name": "python",
   "nbconvert_exporter": "python",
   "pygments_lexer": "ipython3",
   "version": "3.7.6"
  }
 },
 "nbformat": 4,
 "nbformat_minor": 4
}
