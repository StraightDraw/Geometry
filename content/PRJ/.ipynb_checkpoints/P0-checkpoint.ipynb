{
 "cells": [
  {
   "cell_type": "markdown",
   "metadata": {},
   "source": [
    "# Geometry Projects\n",
    "\n",
    "I have created some materials in this section to help you think about and determine a good geometry project. Projects will include at least 5 proofs along with some history and background of the problem or problems being solved. Which important mathematicians worked on it? What other important work was it related to? Your project will be between 5 and 10 depending on the use of figures."
   ]
  },
  {
   "cell_type": "markdown",
   "metadata": {},
   "source": [
    "## The Gnomon"
   ]
  },
  {
   "cell_type": "markdown",
   "metadata": {},
   "source": [
    "Greek mathematicians were fascinated with the idea of similar figures and patterns. Beginning with the Pythagoreans, the search for patterns was elevated to a science. The Pythagoreans predictably studied triangular numbers and extended this to a search for polygonal numbers with many results proven that we deal with in college level number theory courses.\n",
    "\n",
    "The Greeks also developed ideas about spirals, the Golden Ratio and Golden Rectangle, the geometric mean and harmonic mean."
   ]
  },
  {
   "cell_type": "markdown",
   "metadata": {},
   "source": [
    "## Quadrature"
   ]
  },
  {
   "cell_type": "markdown",
   "metadata": {},
   "source": [
    "The Greeks did not typically solve for areas using algebraic formulas, though they knew them. They constructed figures with equivalent areas. For them, quadrature meant constructing a square using only a compass and straightedge that had the same area as a given rectangle, triangle, parallelogram or other figure. These constructions are classics, and the Greek efforts at quadarature led to the most impressive mathematical exploits of antiquity."
   ]
  },
  {
   "cell_type": "markdown",
   "metadata": {},
   "source": [
    "## Regular Polygons"
   ]
  },
  {
   "cell_type": "markdown",
   "metadata": {},
   "source": [
    "The construction of regular polygons of all degrees is not possible, at least not using only a compass and straightedge and with only a finite number of steps. Still, even the ones that are possible are sometimes not particularly easy."
   ]
  }
 ],
 "metadata": {
  "kernelspec": {
   "display_name": "Python 3",
   "language": "python",
   "name": "python3"
  },
  "language_info": {
   "codemirror_mode": {
    "name": "ipython",
    "version": 3
   },
   "file_extension": ".py",
   "mimetype": "text/x-python",
   "name": "python",
   "nbconvert_exporter": "python",
   "pygments_lexer": "ipython3",
   "version": "3.7.6"
  }
 },
 "nbformat": 4,
 "nbformat_minor": 4
}
