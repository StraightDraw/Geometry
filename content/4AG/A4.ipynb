{
 "cells": [
  {
   "cell_type": "markdown",
   "id": "attractive-amber",
   "metadata": {},
   "source": [
    "# A.4 Conic Sections\n",
    "\n",
    "We can derive basic formulas for the conic sections using simplifications, then generate more robust formulas later once we have worked the details of transformations.\n",
    "\n",
    "Circle\n",
    ": The set of all points equidistant from a point called the *center*.\n",
    "\n",
    "Radius\n",
    ": The common distance from a point on a circle to its center.\n",
    "\n",
    "Parabola\n",
    ": A set of points which are equidistant from a *focal point* $F$ and a line $l$ called the *directrix*.\n",
    "\n",
    "Hyperbola\n",
    ": A set of points where the absolute difference of the distances from two points (called the *foci*) is constant.\n",
    "\n",
    "\n",
    "## Theorems\n",
    "\n",
    "1. The equation of a circle centered at the origin with radius $r$ is given by \n",
    "\n",
    "    $$x^2+y^2=r^2$$\n",
    "\n",
    "2. The equation of a circle centered at the point $(h,k)$ with radius $r$ is given by \n",
    "\n",
    "    $$(x-h)^2+(y-k)^2=r^2$$\n",
    "\n",
    "3. Create a segment $FP$ that is perpendicular to the directrix and passes through the focal point $F$. The midpoint of $FP$ is on the parabola.\n",
    "\n",
    "4. Suppose we have a parabola with a vertical line of symmtery through the origin (e.g. $x=0$) and focal point $F=(0,y_0)$ where $y_0>0$. Prove that the set of all points $P=(x,y)$ on the parabola is equivalent to \n",
    "\n",
    "    $$x^2+(y-y_0)^2=(y+y_0)^2$$\n",
    "\n",
    "    and that the directrix line for the parabola has the equation \n",
    "\n",
    "    $$y=\\frac{1}{y_0}$$\n",
    "\n",
    "3. Hyperbola...under construction...coming soon."
   ]
  }
 ],
 "metadata": {
  "kernelspec": {
   "display_name": "Python 3",
   "language": "python",
   "name": "python3"
  },
  "language_info": {
   "codemirror_mode": {
    "name": "ipython",
    "version": 3
   },
   "file_extension": ".py",
   "mimetype": "text/x-python",
   "name": "python",
   "nbconvert_exporter": "python",
   "pygments_lexer": "ipython3",
   "version": "3.7.6"
  }
 },
 "nbformat": 4,
 "nbformat_minor": 5
}
