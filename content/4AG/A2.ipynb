{
 "cells": [
  {
   "cell_type": "markdown",
   "id": "compact-musician",
   "metadata": {},
   "source": [
    "# A.2 Proofs in Analytic Geometry\n",
    "\n",
    "Use analytic geometric techniques to prove the following well-known Euclidean geometry theorems. Make sure to pick the origin and axes so that the arbitrary figure is located helpfully with respect to the axes and has a useful orientation. Then use Euclidean theorems and equations of lines to prove the needed result."
   ]
  },
  {
   "cell_type": "markdown",
   "id": "invalid-casting",
   "metadata": {},
   "source": [
    "## Theorems\n",
    "1. A quadrilateral ABCD is a parallelogram if and only if one pair of opposite sides are congruent.\n",
    "    ````{hint}\n",
    "    Most analytic geometry proofs are made easier if we remember that we choose the coordinate system to make our life easier. For the above proof, place the line segment $\\overline{AB}$ on the $x$-axis such that $B=(0,0)$ and $A=(a,0)$. Locate $C$ and $D$ in the first quadrant.\n",
    "    \n",
    "   ```{figure} ../images/Analytic01.png\n",
    "    ---\n",
    "    width: 50%\n",
    "    name: Parallelogram \n",
    "    ---\n",
    "    Placing coordinates for a parallelogram proof in analytic goemetry.\n",
    "    ```\n",
    "    \n",
    "    ````\n",
    "2. The diagonals of a parallelogram bisect each other. \n",
    "\n",
    "    ````{hint}\n",
    "    Use same coordinate setup shown above.\n",
    "    ````\n",
    "\n",
    "3. The set of all rectangles with area equal to $1$ which have a vertex at the origin satisfy the relationship $y=\\frac{1}{x}$."
   ]
  }
 ],
 "metadata": {
  "kernelspec": {
   "display_name": "Python 3",
   "language": "python",
   "name": "python3"
  },
  "language_info": {
   "codemirror_mode": {
    "name": "ipython",
    "version": 3
   },
   "file_extension": ".py",
   "mimetype": "text/x-python",
   "name": "python",
   "nbconvert_exporter": "python",
   "pygments_lexer": "ipython3",
   "version": "3.7.6"
  }
 },
 "nbformat": 4,
 "nbformat_minor": 5
}
