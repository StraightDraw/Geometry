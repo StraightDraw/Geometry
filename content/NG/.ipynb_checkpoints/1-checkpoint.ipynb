{
 "cells": [
  {
   "cell_type": "markdown",
   "metadata": {},
   "source": [
    "# 2.1 Congruence, Lines and Angles\n",
    "\n",
    "**Definitions**\n",
    "\n",
    "* Segment and Angle Congruence. Two segments (or angles) are congruent if and only if their measures are equal.\n",
    "* Polygon Congruence. Two polygons are congruent if and only if there exists a one-to-one correspondence between their vertices such that all their corresponding sides (line sgements) and all their corresponding angles are congruent.\n",
    "\n",
    "Congruence relations are *equivalance relations* (see Theorem 1). Specifically, congruence relations are symmetric, reflexive and transitive.\n",
    "\n",
    "* Collinear. Two points are *collinear* if they lie on the same line.\n",
    "* Intersecting Lines. Two lines *intersect* if there exists a point that is on both lines.\n",
    "* Parallel Lines. *Parallel* lines are two lines in the same plan which do not intersect.\n",
    "* Concurrent Lines. *Concurrent* lines are three or more coplanar lines that have a point in common.\n",
    "* Segment. A *segment* $\\overline{AB}$ is the set of points $A$, $B$ and all points $P$ such that $P\\in\\overleftrightarrow{AB}$ and $AP+PB=AB$.\n",
    "\n",
    "    In the above definition, we would like to say \"...all points $P$ **between** $A$ and $B$,\" but as you'll see\n",
    "    below, we need the concept of *segment* to define the idea of *between*, so we rely upon the SMSG\n",
    "    Ruler Postulate (Axiom 3) and Distance Postulate (Axiom 2) to define a segment.\n",
    "\n",
    "* Between. A point $B$ is *between* $A$ and $C$ if $B\\in \\overline{AC}$ but $B\\neq A,C$.\n",
    "* Ray. A ray $\\overrightarrow{AB}$ (also called a half-line) is a subset of the line $\\overleftrightarrow{AB}$ that contains a given point $A$ and all the points $C\\in\\overleftrightarrow{AB}$ such that $A$ is \\textbf{not} between $C$ and $B$. The point $A$ is called the \\textbf{endpoint} of the ray.\n",
    "* Angle. An angle is the union of two rays which have the same endpoint.\n",
    "* Angle Interior. A point $P$ is in the interior of $\\angle{ABC}$ provided:\n",
    " + $m\\angle{ABC}<180^\\circ$\n",
    " + there exist points $X,Y$ such that\n",
    "   + $X\\in\\overrightarrow{BA}$,\n",
    "   + $Y\\in\\overrightarrow{BC}$, and\n",
    "   + $P$ is between $X$ and $Y$\n",
    "\n",
    "\n",
    "* Convex. A set (or polygon) $P$ is convex if $A,B\\in P\\implies \\overline{AB}\\in P$.\n",
    "* Midpoint. The midpoint C of $\\overline{AB}$ lies on $\\overline{AB}$ such that $AC = CB$.\n",
    "* Angle Bisector. The ray $\\overrightarrow{BD}$ is the angle bisector of $\\angle{ABC}$ if $m\\angle ABD = m\\angle DBC$.\n",
    "* Right Angle. An angle with angle measure $90^\\circ$ (see SMSG Axiom 11).\n",
    "* Acute Angle. An angle with angle measure less than $90^\\circ$.\n",
    "* Perpendicular Bisector. A line which passes through the midpoint of a line segment and which forms a right angle with that segment at the point of intersection.\n",
    "* Obtuse Angle. An angle with angle measure greater than $90^\\circ$.[^1]\n",
    "* Straight Angle. An angle whose rays are distinct but collinear.\n",
    "* Vertical Angles.} The angles opposite each other when two lines cross.\n",
    "* Supplementary Angles Postulate. (From SMSG Axiom list.) If two angles form a linear pair, they are supplentary.\n",
    "* Complementary Angle. If two angles form a right angle, they are complementary.\n",
    "\n",
    "[^1]: Note that according to SMSG Axiom 11, angles *must* have measure $\\leq 180^\\circ$, so we don't yet have the idea (or a way to define) \"reflex angles,\" nor do we have angles with negative measure."
   ]
  },
  {
   "cell_type": "markdown",
   "metadata": {},
   "source": [
    "#### Theorems\n",
    "1. Congruence relations are equivalence relations.\n",
    "2. Every line segment has exactly one midpoint. \n",
    "3. Every angle has exactly one bisector.\n",
    "4. Supplements and complements of the same angles are congruent. \n",
    "5. The intersection of two convex polygons is convex.\n",
    "6. Vertical angles are congruent.\n",
    "7. **Pasch's Axiom**. Given a line that contains no vertex of a triangle, if that line intersects one side of the triangle, it must intersect another. \n",
    "8. **Crossbar Theorem**. If at least one point of $\\overrightarrow{AC}$ is in the interior of $\\angle{BAD}$ then $\\overrightarrow{AC}$ intersects $\\overline{BD}$."
   ]
  }
 ],
 "metadata": {
  "kernelspec": {
   "display_name": "Python 3",
   "language": "python",
   "name": "python3"
  },
  "language_info": {
   "codemirror_mode": {
    "name": "ipython",
    "version": 3
   },
   "file_extension": ".py",
   "mimetype": "text/x-python",
   "name": "python",
   "nbconvert_exporter": "python",
   "pygments_lexer": "ipython3",
   "version": "3.8.5"
  }
 },
 "nbformat": 4,
 "nbformat_minor": 4
}
