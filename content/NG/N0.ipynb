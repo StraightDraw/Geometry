{
 "cells": [
  {
   "cell_type": "markdown",
   "metadata": {},
   "source": [
    "# Neutral Geometry"
   ]
  },
  {
   "cell_type": "markdown",
   "metadata": {},
   "source": [
    "## Geometry without a Parallel Property"
   ]
  },
  {
   "cell_type": "markdown",
   "metadata": {},
   "source": [
    "We will explore *neutral geometry* where no parallel postulate exists. Most triangle theorems go through just fine, but the big bump in the road is quadrilaterals, a bump that confused mathematicians for more than two thousand years. The animation below shows triangles and quadrilaterals in a hyperbolic geometry. The angles are Euclidean, but the distances are not. Curiously, hyperbolic geometry is also allowed (along with Eucliden geometry) if we do not include a parallel axiom.\n",
    "\n",
    "````{dropdown} Poincare Disk Model of Hyperbolic Geometry (GIF)\n",
    "![Poincare Disk Model of Hyperbolic Geometry](https://mathworld.wolfram.com/images/gifs/poincare.gif)\n",
    "````\n",
    "\n",
    "Spherical geometry is a special case of elliptical geometry where the lines of the geometry are great circles of the sphere. In spherical geometry, triangles have angle sums greater than $180^{\\circ}$. Elliptical and spherical geometry develops along a separate path from Euclidean and hyperbolic geometries, and the axioms and theorems of neutral geometry do not typically apply.\n",
    "\n",
    "````{figure} https://www.mu6.com/rieman/Euclide_non-Euclidi_geometry.jpg\n",
    "---\n",
    "height: 250px\n",
    "name: directive-fig\n",
    "---\n",
    "Visual Comparison of Euclidean, Hyperbolic and Elliptical Geometries\n",
    "````\n",
    "\n",
    "````{warning}\n",
    "Geometric notation has conventions we need to follow. The notation $\\overline{AB}$ describes a **line segment** but $AB$ indicates **length** or the distance between $A$ and $B$. We refer to the angle as $\\angle BAC$ (with vertex $A$), but $\\measuredangle BAC$ indicates its measure.\n",
    "````"
   ]
  },
  {
   "cell_type": "markdown",
   "metadata": {},
   "source": [
    "## Axiomatics of Neutral Geometry\n",
    "\n",
    "When undergraduate math majors encounter proofs for the first time, they often wonder why in the world anyone would need to prove that the number $\\sqrt 2$ exists. Mathematicians prove every single result starting from the axioms and defined terms. Undergraduate math majors often roll their eyes. What's the point of proving that the point where two lines intersect is actually on both lines? For many students, these exercises are tedious at best, confusing at worst.\n",
    "\n",
    "```{dropdown} Problem of Completeness\n",
    "The biggest problem for geometers is that geometric lines are not necessarily *continuous* and *complete*. Continuous functions are familiar to calculus students. For completeness, we can have sequences of points on a line where the distances between successive terms get smaller and smaller, yet the limiting point is nowhere to be found.\n",
    "```\n",
    "\n",
    "````{margin}\n",
    "The linked video provides an overview of the completeness property in mathematics.\n",
    "````\n",
    "\n",
    "<iframe width=\"560\" height=\"315\" src=\"https://www.youtube.com/embed/n-tWaJcUeR4\" frameborder=\"0\" allow=\"accelerometer; autoplay; clipboard-write; encrypted-media; gyroscope; picture-in-picture\" allowfullscreen></iframe>\n",
    "\n",
    "The SMSG Axioms form a bridge to the most interesting and accessible results of Euclidean geometry. The tedium of proving the continuity and completeness of all lines is avoided, and \"real\" geometry takes place almost immediately. For neutral geometry, we will assume only the first 15 of the SMSG axioms are true. Axiom 16 is the parallel postulate. \n",
    "\n",
    "````{note}\n",
    "Neutral geometry assumes only the first 15 axioms of the SMSG set.\n",
    "````\n",
    "\n",
    "The undefined terms for the SMSG axioms are often said to be *points*, *lines* and *plane*. The hidden gold of the SMSG axioms is that they provide tools from three categories of mathematics.\n",
    "\n",
    "* Sets\n",
    "* Logic\n",
    "* Algebraic properties of real numbers\n",
    "\n",
    "````{margin}\n",
    "The linked video is set to open toward the end of the presentation to provide a summary of the relevant algebraic properties we can assume are true in our geometry.\n",
    "````\n",
    "\n",
    "<iframe width=\"560\" height=\"315\" src=\"https://www.youtube.com/embed/caZqcrkW3IY?start=583\" frameborder=\"0\" allow=\"accelerometer; autoplay; clipboard-write; encrypted-media; gyroscope; picture-in-picture\" allowfullscreen></iframe>\n",
    "\n",
    "The three sets of tools provide immense and immediate aid. When the notions of *sets* like containment and equality all make sense, we can immediately use and understand statements like \"$\\triangle ABC$ contains the point D\" or \"point $Z$ lies on line $\\overleftrightarrow{AB}$.\" We also assume that basic set operations like intersections, unions and set subtraction work properly. The SMSG axioms use the defined term  *space* which is the *universal set*: the set of all points, lines and planes in the geometry. \n",
    "\n",
    "We may use the formal laws of *logic*. For example, to prove a statement false, we need only one counterexample. Proving the contrapositive is equivalent to proving the original statement. Just because a statement is true does not imply its converse is true. We do not prove these logical constructs work, we simply use them.\n",
    "\n",
    "The *algebraic properties of real numbers* provide a huge ski jump that sends us flying past many tedious and technical proofs.\n",
    "\n",
    "````{note}\n",
    "Geometric distances and angle measures are **real numbers**, so we can solve equations, distribute, cancel and take square roots. Additive and multiplicative identies exist and work properly. When we multiply through an inequality by a negative real number, the inequality \"flips.\" All the normal machinery works.\n",
    "````\n",
    "\n",
    "In the Ruler Postulate below, every line in our geometry inherits all the properties of the real number line. *Cotinuity* and *completeness* come along, too. Any real number we can imagine exists and can be placed precisely in relation to any other quantity. SMSG axioms like the Distance Postulate and Angle Measurement Postulate leverage the properties of real numbers so that we can construct things like midpoints of segments and bisectors of angles. Defined terms like *angle measure*, *area* and *volume* make sense only because they correspond to real number quanities.\n",
    "\n",
    "#### SMSG Axioms 1 to 15\n",
    "\n",
    "1. **Line Uniqueness**. Given any two different points, there is exactly one line which contains both of them.\n",
    "2. **Distance Postulate**. To every pair of different points there corresponds a unique positive number.\n",
    "\n",
    "    ````{margin}\n",
    "    ```{admonition} Neutral geometry is infinite.\n",
    "    :class: note\n",
    "    Axiom 5 guarantees at least 3 non-collinear points on which there are at least three lines (Axiom 1). Each of these lines has infinitely many points (Ruler Postulate, part 2). By Axiom 1, any pair of points has a unique line on it, so the geometry has infinitely many lines, too. \n",
    "    ```\n",
    "    ````\n",
    "\n",
    "3. **Ruler Postulate**. The points of a line can be placed in correspondence with the real numbers in such a way that:\n",
    "    1. To every point of the line there corresponds exactly one real number,\n",
    "    2. To every real number there corresponds exactly one point of the line, and\n",
    "    3. The distance between two points is the absolute value of the difference of the corresponding real numbers.\n",
    "\n",
    "\n",
    "4. **Ruler Placement Postulate**. Given any two points $P$ and $Q$ on a line, the coordinate system can be chosen in such a way that the coordinate of $P$ is zero and the corrdinate of $Q$ is positive.\n",
    "5. **Points Exist**. \n",
    "    1. Every plane contains at least three non-collinear points. \n",
    "    2. Space contains at least four non-coplanar points.\n",
    "\n",
    "\n",
    "6. **Points**. If two points lie in a plane, then the whole of the line containing these points lies in the same plane.\n",
    "7. **Plane Uniqueness**. There is at least one plane containing any three points, and exactly one plane containing any three non-collinear points.\n",
    "8. **Plane Intersection**. If two different planes intersect, then their intersection is a line.\n",
    "9. **Plane Separation Postulate**. [^1] Given a line and a plane containing it, the points of the plane that do not lie on the line form two sets such that\n",
    "    1. each of the sets is convex, and\n",
    "    2. if $P$ is in one set and $Q$ is in the other, then the segment $\\overline{PQ}$ intersects the line.\n",
    "\n",
    "\n",
    "10. **Space Separation Postulate**. The points of space that do not lie in a given plane form two sets such that\n",
    "    1. each of the sets is convex, and\n",
    "    2. if $P$ is in one set and $Q$ is in the other, then the segment $\\overline{PQ}$ intersects the plane.\n",
    "\n",
    "\n",
    "11. **Angle Measurement Postulate**. To every angle there corresponds a real number between $0^{\\circ}$ and $180^{\\circ}$.\n",
    "12. **Angle Construction Postulate**. Let $\\overrightarrow{AB}$ be a ray on the edge of the half-plane $H$. For every $r$ between $0$ and $180$ there is exactly one ray $\\overrightarrow{AP}$ with $P$ in $H$ such that $m\\angle PAB = r$.\n",
    "13. **Angle Addition Postulate**. If $D$ is a point in the interior of $\\measuredangle BAC$, then $\\measuredangle BAC = \\measuredangle BAD + \\measuredangle DAC$.\n",
    "14. **Supplementary Postulate**. If two angles form a linear pair, then they are supplementary.\n",
    "15. **Side Angle Side Postulate**. Given a one-to-one correspondence between two triangles (or between a triangle and itself), if two sides and the included angle of the first triangle are congruent to the corresponding parts of the second triangle, the correspondence is a congruence."
   ]
  },
  {
   "cell_type": "markdown",
   "metadata": {},
   "source": [
    "[^1]: A version of Pasch's Axiom."
   ]
  }
 ],
 "metadata": {
  "kernelspec": {
   "display_name": "Python 3",
   "language": "python",
   "name": "python3"
  },
  "language_info": {
   "codemirror_mode": {
    "name": "ipython",
    "version": 3
   },
   "file_extension": ".py",
   "mimetype": "text/x-python",
   "name": "python",
   "nbconvert_exporter": "python",
   "pygments_lexer": "ipython3",
   "version": "3.7.6"
  }
 },
 "nbformat": 4,
 "nbformat_minor": 4
}
